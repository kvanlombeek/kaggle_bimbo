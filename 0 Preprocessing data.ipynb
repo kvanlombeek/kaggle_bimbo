{
 "cells": [
  {
   "cell_type": "code",
   "execution_count": 2,
   "metadata": {
    "collapsed": false
   },
   "outputs": [
    {
     "data": {
      "text/html": [
       "<style>.container { width:100% !important; }</style>"
      ],
      "text/plain": [
       "<IPython.core.display.HTML object>"
      ]
     },
     "execution_count": 2,
     "metadata": {},
     "output_type": "execute_result"
    }
   ],
   "source": [
    "import pandas as pd\n",
    "import numpy as np\n",
    "import os\n",
    "from IPython.core.display import HTML\n",
    "HTML(\"<style>.container { width:100% !important; }</style>\")"
   ]
  },
  {
   "cell_type": "code",
   "execution_count": 3,
   "metadata": {
    "collapsed": false
   },
   "outputs": [],
   "source": [
    "cliente_tabla = pd.read_csv('../data/cliente_tabla.csv')\n",
    "producto_tabla = pd.read_csv('../data/producto_tabla.csv')\n",
    "test = pd.read_csv('../data/test.csv')\n",
    "train = pd.read_csv('../data/train.csv')\n",
    "town_state = pd.read_csv('../data/town_state.csv')"
   ]
  },
  {
   "cell_type": "markdown",
   "metadata": {},
   "source": [
    "# Group by Client_ID information\n",
    "\n",
    "\n",
    "- most common route\n",
    "- most common agencia id\n",
    "- all routes\n",
    "- all agencies\n",
    "- how many routes\n",
    "- how many agencies"
   ]
  },
  {
   "cell_type": "code",
   "execution_count": 17,
   "metadata": {
    "collapsed": false
   },
   "outputs": [
    {
     "data": {
      "text/html": [
       "<div>\n",
       "<table border=\"1\" class=\"dataframe\">\n",
       "  <thead>\n",
       "    <tr style=\"text-align: right;\">\n",
       "      <th></th>\n",
       "      <th>Cliente_ID</th>\n",
       "      <th>Agencia_ID</th>\n",
       "      <th>Producto_ID</th>\n",
       "      <th>Semana</th>\n",
       "      <th>Ruta_SAK</th>\n",
       "      <th>Town</th>\n",
       "      <th>State</th>\n",
       "    </tr>\n",
       "  </thead>\n",
       "  <tbody>\n",
       "    <tr>\n",
       "      <th>76660010</th>\n",
       "      <td>153256</td>\n",
       "      <td>1693</td>\n",
       "      <td>5355</td>\n",
       "      <td>10</td>\n",
       "      <td>3919</td>\n",
       "      <td>2377 VERACRUZ SUR MLA</td>\n",
       "      <td>VERACRUZ</td>\n",
       "    </tr>\n",
       "    <tr>\n",
       "      <th>23491662</th>\n",
       "      <td>216247</td>\n",
       "      <td>1212</td>\n",
       "      <td>35651</td>\n",
       "      <td>5</td>\n",
       "      <td>1427</td>\n",
       "      <td>2064 AG. TEPALCATES 1</td>\n",
       "      <td>MÉXICO, D.F.</td>\n",
       "    </tr>\n",
       "    <tr>\n",
       "      <th>41146452</th>\n",
       "      <td>1818037</td>\n",
       "      <td>2216</td>\n",
       "      <td>41938</td>\n",
       "      <td>6</td>\n",
       "      <td>1151</td>\n",
       "      <td>2380 CAMPECHE</td>\n",
       "      <td>CAMPECHE</td>\n",
       "    </tr>\n",
       "    <tr>\n",
       "      <th>19830748</th>\n",
       "      <td>385654</td>\n",
       "      <td>2060</td>\n",
       "      <td>32940</td>\n",
       "      <td>4</td>\n",
       "      <td>2152</td>\n",
       "      <td>2301 CUBILETE</td>\n",
       "      <td>GUANAJUATO</td>\n",
       "    </tr>\n",
       "    <tr>\n",
       "      <th>18141217</th>\n",
       "      <td>145268</td>\n",
       "      <td>1952</td>\n",
       "      <td>32940</td>\n",
       "      <td>4</td>\n",
       "      <td>5722</td>\n",
       "      <td>2305 MAZATLAN BIMBO</td>\n",
       "      <td>SINALOA</td>\n",
       "    </tr>\n",
       "  </tbody>\n",
       "</table>\n",
       "</div>"
      ],
      "text/plain": [
       "          Cliente_ID  Agencia_ID  Producto_ID  Semana  Ruta_SAK  \\\n",
       "76660010      153256        1693         5355      10      3919   \n",
       "23491662      216247        1212        35651       5      1427   \n",
       "41146452     1818037        2216        41938       6      1151   \n",
       "19830748      385654        2060        32940       4      2152   \n",
       "18141217      145268        1952        32940       4      5722   \n",
       "\n",
       "                           Town         State  \n",
       "76660010  2377 VERACRUZ SUR MLA      VERACRUZ  \n",
       "23491662  2064 AG. TEPALCATES 1  MÉXICO, D.F.  \n",
       "41146452          2380 CAMPECHE      CAMPECHE  \n",
       "19830748          2301 CUBILETE    GUANAJUATO  \n",
       "18141217    2305 MAZATLAN BIMBO       SINALOA  "
      ]
     },
     "execution_count": 17,
     "metadata": {},
     "output_type": "execute_result"
    }
   ],
   "source": [
    "test_train = pd.concat([train[['Cliente_ID', 'Agencia_ID', 'Producto_ID', 'Semana', 'Ruta_SAK']],\n",
    "                       test[['Cliente_ID', 'Agencia_ID', 'Producto_ID', 'Semana', 'Ruta_SAK']]], axis = 0)\n",
    "test_train = pd.merge(test_train, town_state, left_on='Agencia_ID', right_on='Agencia_ID', how='left' )\n",
    "test_train.sample(5)"
   ]
  },
  {
   "cell_type": "code",
   "execution_count": 15,
   "metadata": {
    "collapsed": false
   },
   "outputs": [
    {
     "data": {
      "text/html": [
       "<div>\n",
       "<table border=\"1\" class=\"dataframe\">\n",
       "  <thead>\n",
       "    <tr style=\"text-align: right;\">\n",
       "      <th></th>\n",
       "      <th>Town</th>\n",
       "    </tr>\n",
       "    <tr>\n",
       "      <th>Cliente_ID</th>\n",
       "      <th></th>\n",
       "    </tr>\n",
       "  </thead>\n",
       "  <tbody>\n",
       "    <tr>\n",
       "      <th>26</th>\n",
       "      <td>2175 TOLUCA AEROPUERTO</td>\n",
       "    </tr>\n",
       "    <tr>\n",
       "      <th>60</th>\n",
       "      <td>2175 TOLUCA AEROPUERTO</td>\n",
       "    </tr>\n",
       "    <tr>\n",
       "      <th>65</th>\n",
       "      <td>2175 TOLUCA AEROPUERTO</td>\n",
       "    </tr>\n",
       "    <tr>\n",
       "      <th>101</th>\n",
       "      <td>2655 LOS MOCHIS</td>\n",
       "    </tr>\n",
       "    <tr>\n",
       "      <th>105</th>\n",
       "      <td>2175 TOLUCA AEROPUERTO</td>\n",
       "    </tr>\n",
       "  </tbody>\n",
       "</table>\n",
       "</div>"
      ],
      "text/plain": [
       "                              Town\n",
       "Cliente_ID                        \n",
       "26          2175 TOLUCA AEROPUERTO\n",
       "60          2175 TOLUCA AEROPUERTO\n",
       "65          2175 TOLUCA AEROPUERTO\n",
       "101                2655 LOS MOCHIS\n",
       "105         2175 TOLUCA AEROPUERTO"
      ]
     },
     "execution_count": 15,
     "metadata": {},
     "output_type": "execute_result"
    }
   ],
   "source": [
    "town_per_client = test_train[['Town', 'Cliente_ID']].groupby('Cliente_ID').agg(lambda x:x.value_counts().index[0])\n",
    "town_per_client.head()"
   ]
  },
  {
   "cell_type": "code",
   "execution_count": 28,
   "metadata": {
    "collapsed": true
   },
   "outputs": [],
   "source": [
    "ruta_per_client = test_train[['Ruta_SAK','Cliente_ID']].groupby('Cliente_ID').agg(lambda x:x.value_counts().index[0])\n",
    "all_ruta_per_client = test_train[['Ruta_SAK','Cliente_ID']].groupby('Cliente_ID').agg(lambda x:str(np.unique(x)))\n",
    "all_ruta_per_client = all_ruta_per_client.rename(columns = {'Ruta_SAK':'All_Rutas'})\n",
    "N_ruta_per_client = test_train[['Ruta_SAK','Cliente_ID']].groupby('Cliente_ID').agg(lambda x:len(np.unique(x)))\n",
    "N_ruta_per_client = N_ruta_per_client.rename(columns = {'Ruta_SAK':'N_rutas'})"
   ]
  },
  {
   "cell_type": "code",
   "execution_count": 29,
   "metadata": {
    "collapsed": false
   },
   "outputs": [],
   "source": [
    "agencia_per_client = test_train[['Agencia_ID','Cliente_ID']].groupby('Cliente_ID').agg(lambda x:x.value_counts().index[0])\n",
    "all_agencia_per_client = test_train[['Agencia_ID','Cliente_ID']].groupby('Cliente_ID').agg(lambda x:str(np.unique(x)))\n",
    "all_agencia_per_client = all_agencia_per_client.rename(columns = {'Agencia_ID':'All_Agencias'})\n",
    "N_agencia_per_client = test_train[['Agencia_ID','Cliente_ID']].groupby('Cliente_ID').agg(lambda x:len(np.unique(x)))\n",
    "N_agencia_per_client = N_agencia_per_client.rename(columns = {'Agencia_ID':'N_Agencias'})"
   ]
  },
  {
   "cell_type": "code",
   "execution_count": 40,
   "metadata": {
    "collapsed": false
   },
   "outputs": [
    {
     "data": {
      "text/html": [
       "<div>\n",
       "<table border=\"1\" class=\"dataframe\">\n",
       "  <thead>\n",
       "    <tr style=\"text-align: right;\">\n",
       "      <th></th>\n",
       "      <th>Town</th>\n",
       "      <th>Ruta_SAK</th>\n",
       "      <th>Agencia_ID</th>\n",
       "      <th>All_Rutas</th>\n",
       "      <th>All_Agencias</th>\n",
       "      <th>N_rutas</th>\n",
       "      <th>N_Agencias</th>\n",
       "    </tr>\n",
       "    <tr>\n",
       "      <th>Cliente_ID</th>\n",
       "      <th></th>\n",
       "      <th></th>\n",
       "      <th></th>\n",
       "      <th></th>\n",
       "      <th></th>\n",
       "      <th></th>\n",
       "      <th></th>\n",
       "    </tr>\n",
       "  </thead>\n",
       "  <tbody>\n",
       "    <tr>\n",
       "      <th>26</th>\n",
       "      <td>2175 TOLUCA AEROPUERTO</td>\n",
       "      <td>7212</td>\n",
       "      <td>2061</td>\n",
       "      <td>[3076 3079 3092 4189 7212 9308]</td>\n",
       "      <td>[2061 2655]</td>\n",
       "      <td>6</td>\n",
       "      <td>2</td>\n",
       "    </tr>\n",
       "    <tr>\n",
       "      <th>60</th>\n",
       "      <td>2175 TOLUCA AEROPUERTO</td>\n",
       "      <td>7238</td>\n",
       "      <td>2061</td>\n",
       "      <td>[3025 4120 4121 4122 4124 4125 4126 4127 4128 ...</td>\n",
       "      <td>[2061 2655]</td>\n",
       "      <td>22</td>\n",
       "      <td>2</td>\n",
       "    </tr>\n",
       "    <tr>\n",
       "      <th>65</th>\n",
       "      <td>2175 TOLUCA AEROPUERTO</td>\n",
       "      <td>7250</td>\n",
       "      <td>2061</td>\n",
       "      <td>[7250 7333 9033]</td>\n",
       "      <td>[2061 2655]</td>\n",
       "      <td>3</td>\n",
       "      <td>2</td>\n",
       "    </tr>\n",
       "    <tr>\n",
       "      <th>101</th>\n",
       "      <td>2655 LOS MOCHIS</td>\n",
       "      <td>7334</td>\n",
       "      <td>2655</td>\n",
       "      <td>[7334]</td>\n",
       "      <td>[2655]</td>\n",
       "      <td>1</td>\n",
       "      <td>1</td>\n",
       "    </tr>\n",
       "    <tr>\n",
       "      <th>105</th>\n",
       "      <td>2175 TOLUCA AEROPUERTO</td>\n",
       "      <td>7222</td>\n",
       "      <td>2061</td>\n",
       "      <td>[7222]</td>\n",
       "      <td>[2061]</td>\n",
       "      <td>1</td>\n",
       "      <td>1</td>\n",
       "    </tr>\n",
       "  </tbody>\n",
       "</table>\n",
       "</div>"
      ],
      "text/plain": [
       "                              Town  Ruta_SAK  Agencia_ID  \\\n",
       "Cliente_ID                                                 \n",
       "26          2175 TOLUCA AEROPUERTO      7212        2061   \n",
       "60          2175 TOLUCA AEROPUERTO      7238        2061   \n",
       "65          2175 TOLUCA AEROPUERTO      7250        2061   \n",
       "101                2655 LOS MOCHIS      7334        2655   \n",
       "105         2175 TOLUCA AEROPUERTO      7222        2061   \n",
       "\n",
       "                                                    All_Rutas All_Agencias  \\\n",
       "Cliente_ID                                                                   \n",
       "26                            [3076 3079 3092 4189 7212 9308]  [2061 2655]   \n",
       "60          [3025 4120 4121 4122 4124 4125 4126 4127 4128 ...  [2061 2655]   \n",
       "65                                           [7250 7333 9033]  [2061 2655]   \n",
       "101                                                    [7334]       [2655]   \n",
       "105                                                    [7222]       [2061]   \n",
       "\n",
       "            N_rutas  N_Agencias  \n",
       "Cliente_ID                       \n",
       "26                6           2  \n",
       "60               22           2  \n",
       "65                3           2  \n",
       "101               1           1  \n",
       "105               1           1  "
      ]
     },
     "execution_count": 40,
     "metadata": {},
     "output_type": "execute_result"
    }
   ],
   "source": [
    "client_info = pd.merge(town_per_client, ruta_per_client, how='left', right_index=True, left_index=True)\n",
    "client_info = pd.merge(client_info, agencia_per_client, how='left', right_index=True, left_index=True)\n",
    "client_info = pd.merge(client_info, all_ruta_per_client, how='left', right_index=True, left_index=True)\n",
    "client_info = pd.merge(client_info, all_agencia_per_client, how='left', right_index=True, left_index=True)\n",
    "client_info = pd.merge(client_info, N_ruta_per_client, how='left', right_index=True, left_index=True)\n",
    "client_info = pd.merge(client_info, N_agencia_per_client, how='left', right_index=True, left_index=True)\n",
    "client_info['Cliente_ID'] = client_info.index\n",
    "client_info = client_info.reset_index(drop=True)\n",
    "client_info.head()"
   ]
  },
  {
   "cell_type": "code",
   "execution_count": 44,
   "metadata": {
    "collapsed": false
   },
   "outputs": [],
   "source": [
    "client_info.to_csv('data/Derived/client_info.csv', index = False)"
   ]
  },
  {
   "cell_type": "markdown",
   "metadata": {},
   "source": [
    "# Pivot table in wide format"
   ]
  },
  {
   "cell_type": "code",
   "execution_count": 5,
   "metadata": {
    "collapsed": false
   },
   "outputs": [
    {
     "data": {
      "text/html": [
       "<div>\n",
       "<table border=\"1\" class=\"dataframe\">\n",
       "  <thead>\n",
       "    <tr style=\"text-align: right;\">\n",
       "      <th></th>\n",
       "      <th>Semana</th>\n",
       "      <th>Agencia_ID</th>\n",
       "      <th>Canal_ID</th>\n",
       "      <th>Ruta_SAK</th>\n",
       "      <th>Cliente_ID</th>\n",
       "      <th>Producto_ID</th>\n",
       "      <th>Venta_uni_hoy</th>\n",
       "      <th>Venta_hoy</th>\n",
       "      <th>Dev_uni_proxima</th>\n",
       "      <th>Dev_proxima</th>\n",
       "      <th>Demanda_uni_equil</th>\n",
       "    </tr>\n",
       "  </thead>\n",
       "  <tbody>\n",
       "    <tr>\n",
       "      <th>0</th>\n",
       "      <td>3</td>\n",
       "      <td>1110</td>\n",
       "      <td>7</td>\n",
       "      <td>3301</td>\n",
       "      <td>15766</td>\n",
       "      <td>1212</td>\n",
       "      <td>3</td>\n",
       "      <td>25.14</td>\n",
       "      <td>0</td>\n",
       "      <td>0</td>\n",
       "      <td>3</td>\n",
       "    </tr>\n",
       "    <tr>\n",
       "      <th>1</th>\n",
       "      <td>3</td>\n",
       "      <td>1110</td>\n",
       "      <td>7</td>\n",
       "      <td>3301</td>\n",
       "      <td>15766</td>\n",
       "      <td>1216</td>\n",
       "      <td>4</td>\n",
       "      <td>33.52</td>\n",
       "      <td>0</td>\n",
       "      <td>0</td>\n",
       "      <td>4</td>\n",
       "    </tr>\n",
       "    <tr>\n",
       "      <th>2</th>\n",
       "      <td>3</td>\n",
       "      <td>1110</td>\n",
       "      <td>7</td>\n",
       "      <td>3301</td>\n",
       "      <td>15766</td>\n",
       "      <td>1238</td>\n",
       "      <td>4</td>\n",
       "      <td>39.32</td>\n",
       "      <td>0</td>\n",
       "      <td>0</td>\n",
       "      <td>4</td>\n",
       "    </tr>\n",
       "    <tr>\n",
       "      <th>3</th>\n",
       "      <td>3</td>\n",
       "      <td>1110</td>\n",
       "      <td>7</td>\n",
       "      <td>3301</td>\n",
       "      <td>15766</td>\n",
       "      <td>1240</td>\n",
       "      <td>4</td>\n",
       "      <td>33.52</td>\n",
       "      <td>0</td>\n",
       "      <td>0</td>\n",
       "      <td>4</td>\n",
       "    </tr>\n",
       "    <tr>\n",
       "      <th>4</th>\n",
       "      <td>3</td>\n",
       "      <td>1110</td>\n",
       "      <td>7</td>\n",
       "      <td>3301</td>\n",
       "      <td>15766</td>\n",
       "      <td>1242</td>\n",
       "      <td>3</td>\n",
       "      <td>22.92</td>\n",
       "      <td>0</td>\n",
       "      <td>0</td>\n",
       "      <td>3</td>\n",
       "    </tr>\n",
       "  </tbody>\n",
       "</table>\n",
       "</div>"
      ],
      "text/plain": [
       "   Semana  Agencia_ID  Canal_ID  Ruta_SAK  Cliente_ID  Producto_ID  \\\n",
       "0       3        1110         7      3301       15766         1212   \n",
       "1       3        1110         7      3301       15766         1216   \n",
       "2       3        1110         7      3301       15766         1238   \n",
       "3       3        1110         7      3301       15766         1240   \n",
       "4       3        1110         7      3301       15766         1242   \n",
       "\n",
       "   Venta_uni_hoy  Venta_hoy  Dev_uni_proxima  Dev_proxima  Demanda_uni_equil  \n",
       "0              3      25.14                0            0                  3  \n",
       "1              4      33.52                0            0                  4  \n",
       "2              4      39.32                0            0                  4  \n",
       "3              4      33.52                0            0                  4  \n",
       "4              3      22.92                0            0                  3  "
      ]
     },
     "execution_count": 5,
     "metadata": {},
     "output_type": "execute_result"
    }
   ],
   "source": [
    "train.head()"
   ]
  },
  {
   "cell_type": "code",
   "execution_count": 6,
   "metadata": {
    "collapsed": false
   },
   "outputs": [
    {
     "data": {
      "text/html": [
       "<div>\n",
       "<table border=\"1\" class=\"dataframe\">\n",
       "  <thead>\n",
       "    <tr style=\"text-align: right;\">\n",
       "      <th></th>\n",
       "      <th>Cliente_ID</th>\n",
       "      <th>Producto_ID</th>\n",
       "      <th>Semana</th>\n",
       "      <th>Demanda_uni_equil</th>\n",
       "    </tr>\n",
       "  </thead>\n",
       "  <tbody>\n",
       "    <tr>\n",
       "      <th>17778183</th>\n",
       "      <td>102264</td>\n",
       "      <td>43084</td>\n",
       "      <td>4</td>\n",
       "      <td>2</td>\n",
       "    </tr>\n",
       "    <tr>\n",
       "      <th>64438148</th>\n",
       "      <td>1519852</td>\n",
       "      <td>1182</td>\n",
       "      <td>9</td>\n",
       "      <td>8</td>\n",
       "    </tr>\n",
       "    <tr>\n",
       "      <th>30685404</th>\n",
       "      <td>1138467</td>\n",
       "      <td>30532</td>\n",
       "      <td>5</td>\n",
       "      <td>23</td>\n",
       "    </tr>\n",
       "    <tr>\n",
       "      <th>11619674</th>\n",
       "      <td>173705</td>\n",
       "      <td>73</td>\n",
       "      <td>4</td>\n",
       "      <td>1</td>\n",
       "    </tr>\n",
       "    <tr>\n",
       "      <th>65117220</th>\n",
       "      <td>1185743</td>\n",
       "      <td>5310</td>\n",
       "      <td>9</td>\n",
       "      <td>8</td>\n",
       "    </tr>\n",
       "  </tbody>\n",
       "</table>\n",
       "</div>"
      ],
      "text/plain": [
       "          Cliente_ID  Producto_ID  Semana  Demanda_uni_equil\n",
       "17778183      102264        43084       4                  2\n",
       "64438148     1519852         1182       9                  8\n",
       "30685404     1138467        30532       5                 23\n",
       "11619674      173705           73       4                  1\n",
       "65117220     1185743         5310       9                  8"
      ]
     },
     "execution_count": 6,
     "metadata": {},
     "output_type": "execute_result"
    }
   ],
   "source": [
    "test_temp = test\n",
    "test_temp['Demanda_uni_equil'] = None\n",
    "test_train = pd.concat([train[['Cliente_ID',  'Producto_ID', 'Semana','Demanda_uni_equil' ]],\n",
    "                       test_temp[['Cliente_ID', 'Producto_ID', 'Semana','Demanda_uni_equil' ]]], axis = 0)\n",
    "test_train.sample(5)"
   ]
  },
  {
   "cell_type": "code",
   "execution_count": 7,
   "metadata": {
    "collapsed": true
   },
   "outputs": [],
   "source": [
    "pivot_test_train = pd.pivot_table(data = test_train, values = 'Demanda_uni_equil', index = ['Cliente_ID', 'Producto_ID'],columns='Semana' )\n",
    "pivot_test_train.columns = ['sem%i'%i for i in pivot_test_train.columns]\n",
    "pivot_test_train = pivot_test_train.reset_index()\n",
    "pivot_test_train.head()"
   ]
  },
  {
   "cell_type": "code",
   "execution_count": 15,
   "metadata": {
    "collapsed": false
   },
   "outputs": [],
   "source": [
    "pivot_test_train.to_csv('../data/Derived/pivot_test_train.csv', index = False)"
   ]
  }
 ],
 "metadata": {
  "kernelspec": {
   "display_name": "Python 3",
   "language": "python",
   "name": "python3"
  },
  "language_info": {
   "codemirror_mode": {
    "name": "ipython",
    "version": 3
   },
   "file_extension": ".py",
   "mimetype": "text/x-python",
   "name": "python",
   "nbconvert_exporter": "python",
   "pygments_lexer": "ipython3",
   "version": "3.5.1"
  },
  "widgets": {
   "state": {},
   "version": "1.1.2"
  }
 },
 "nbformat": 4,
 "nbformat_minor": 0
}

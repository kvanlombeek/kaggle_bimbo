{
 "cells": [
  {
   "cell_type": "code",
   "execution_count": 1,
   "metadata": {
    "collapsed": false
   },
   "outputs": [],
   "source": [
    "exec(open('libraries.py').read())\n",
    "%matplotlib inline"
   ]
  },
  {
   "cell_type": "code",
   "execution_count": 2,
   "metadata": {
    "collapsed": false
   },
   "outputs": [
    {
     "ename": "OSError",
     "evalue": "File b'data/Derived/client_info.csv' does not exist",
     "output_type": "error",
     "traceback": [
      "\u001b[1;31m\u001b[0m",
      "\u001b[1;31mOSError\u001b[0mTraceback (most recent call last)",
      "\u001b[1;32m<ipython-input-2-64dda5f3ae22>\u001b[0m in \u001b[0;36m<module>\u001b[1;34m()\u001b[0m\n\u001b[0;32m      4\u001b[0m \u001b[0mtrain\u001b[0m \u001b[1;33m=\u001b[0m \u001b[0mpd\u001b[0m\u001b[1;33m.\u001b[0m\u001b[0mread_csv\u001b[0m\u001b[1;33m(\u001b[0m\u001b[1;34m'../data/train.csv'\u001b[0m\u001b[1;33m)\u001b[0m\u001b[1;33m\u001b[0m\u001b[0m\n\u001b[0;32m      5\u001b[0m \u001b[0mtown_state\u001b[0m \u001b[1;33m=\u001b[0m \u001b[0mpd\u001b[0m\u001b[1;33m.\u001b[0m\u001b[0mread_csv\u001b[0m\u001b[1;33m(\u001b[0m\u001b[1;34m'../data/town_state.csv'\u001b[0m\u001b[1;33m)\u001b[0m\u001b[1;33m\u001b[0m\u001b[0m\n\u001b[1;32m----> 6\u001b[1;33m \u001b[0mclient_info\u001b[0m \u001b[1;33m=\u001b[0m \u001b[0mpd\u001b[0m\u001b[1;33m.\u001b[0m\u001b[0mread_csv\u001b[0m\u001b[1;33m(\u001b[0m\u001b[1;34m'data/Derived/client_info.csv'\u001b[0m\u001b[1;33m)\u001b[0m\u001b[1;33m\u001b[0m\u001b[0m\n\u001b[0m\u001b[0;32m      7\u001b[0m \u001b[0mpivot_test_train\u001b[0m \u001b[1;33m=\u001b[0m \u001b[0mpd\u001b[0m\u001b[1;33m.\u001b[0m\u001b[0mread_csv\u001b[0m\u001b[1;33m(\u001b[0m\u001b[1;34m'../data/Derived/pivot_test_train.csv'\u001b[0m\u001b[1;33m)\u001b[0m\u001b[1;33m\u001b[0m\u001b[0m\n",
      "\u001b[1;32m/opt/conda/lib/python3.5/site-packages/pandas/io/parsers.py\u001b[0m in \u001b[0;36mparser_f\u001b[1;34m(filepath_or_buffer, sep, dialect, compression, doublequote, escapechar, quotechar, quoting, skipinitialspace, lineterminator, header, index_col, names, prefix, skiprows, skipfooter, skip_footer, na_values, true_values, false_values, delimiter, converters, dtype, usecols, engine, delim_whitespace, as_recarray, na_filter, compact_ints, use_unsigned, low_memory, buffer_lines, warn_bad_lines, error_bad_lines, keep_default_na, thousands, comment, decimal, parse_dates, keep_date_col, dayfirst, date_parser, memory_map, float_precision, nrows, iterator, chunksize, verbose, encoding, squeeze, mangle_dupe_cols, tupleize_cols, infer_datetime_format, skip_blank_lines)\u001b[0m\n\u001b[0;32m    496\u001b[0m                     skip_blank_lines=skip_blank_lines)\n\u001b[0;32m    497\u001b[0m \u001b[1;33m\u001b[0m\u001b[0m\n\u001b[1;32m--> 498\u001b[1;33m         \u001b[1;32mreturn\u001b[0m \u001b[0m_read\u001b[0m\u001b[1;33m(\u001b[0m\u001b[0mfilepath_or_buffer\u001b[0m\u001b[1;33m,\u001b[0m \u001b[0mkwds\u001b[0m\u001b[1;33m)\u001b[0m\u001b[1;33m\u001b[0m\u001b[0m\n\u001b[0m\u001b[0;32m    499\u001b[0m \u001b[1;33m\u001b[0m\u001b[0m\n\u001b[0;32m    500\u001b[0m     \u001b[0mparser_f\u001b[0m\u001b[1;33m.\u001b[0m\u001b[0m__name__\u001b[0m \u001b[1;33m=\u001b[0m \u001b[0mname\u001b[0m\u001b[1;33m\u001b[0m\u001b[0m\n",
      "\u001b[1;32m/opt/conda/lib/python3.5/site-packages/pandas/io/parsers.py\u001b[0m in \u001b[0;36m_read\u001b[1;34m(filepath_or_buffer, kwds)\u001b[0m\n\u001b[0;32m    273\u001b[0m \u001b[1;33m\u001b[0m\u001b[0m\n\u001b[0;32m    274\u001b[0m     \u001b[1;31m# Create the parser.\u001b[0m\u001b[1;33m\u001b[0m\u001b[1;33m\u001b[0m\u001b[0m\n\u001b[1;32m--> 275\u001b[1;33m     \u001b[0mparser\u001b[0m \u001b[1;33m=\u001b[0m \u001b[0mTextFileReader\u001b[0m\u001b[1;33m(\u001b[0m\u001b[0mfilepath_or_buffer\u001b[0m\u001b[1;33m,\u001b[0m \u001b[1;33m**\u001b[0m\u001b[0mkwds\u001b[0m\u001b[1;33m)\u001b[0m\u001b[1;33m\u001b[0m\u001b[0m\n\u001b[0m\u001b[0;32m    276\u001b[0m \u001b[1;33m\u001b[0m\u001b[0m\n\u001b[0;32m    277\u001b[0m     \u001b[1;32mif\u001b[0m \u001b[1;33m(\u001b[0m\u001b[0mnrows\u001b[0m \u001b[1;32mis\u001b[0m \u001b[1;32mnot\u001b[0m \u001b[1;32mNone\u001b[0m\u001b[1;33m)\u001b[0m \u001b[1;32mand\u001b[0m \u001b[1;33m(\u001b[0m\u001b[0mchunksize\u001b[0m \u001b[1;32mis\u001b[0m \u001b[1;32mnot\u001b[0m \u001b[1;32mNone\u001b[0m\u001b[1;33m)\u001b[0m\u001b[1;33m:\u001b[0m\u001b[1;33m\u001b[0m\u001b[0m\n",
      "\u001b[1;32m/opt/conda/lib/python3.5/site-packages/pandas/io/parsers.py\u001b[0m in \u001b[0;36m__init__\u001b[1;34m(self, f, engine, **kwds)\u001b[0m\n\u001b[0;32m    588\u001b[0m             \u001b[0mself\u001b[0m\u001b[1;33m.\u001b[0m\u001b[0moptions\u001b[0m\u001b[1;33m[\u001b[0m\u001b[1;34m'has_index_names'\u001b[0m\u001b[1;33m]\u001b[0m \u001b[1;33m=\u001b[0m \u001b[0mkwds\u001b[0m\u001b[1;33m[\u001b[0m\u001b[1;34m'has_index_names'\u001b[0m\u001b[1;33m]\u001b[0m\u001b[1;33m\u001b[0m\u001b[0m\n\u001b[0;32m    589\u001b[0m \u001b[1;33m\u001b[0m\u001b[0m\n\u001b[1;32m--> 590\u001b[1;33m         \u001b[0mself\u001b[0m\u001b[1;33m.\u001b[0m\u001b[0m_make_engine\u001b[0m\u001b[1;33m(\u001b[0m\u001b[0mself\u001b[0m\u001b[1;33m.\u001b[0m\u001b[0mengine\u001b[0m\u001b[1;33m)\u001b[0m\u001b[1;33m\u001b[0m\u001b[0m\n\u001b[0m\u001b[0;32m    591\u001b[0m \u001b[1;33m\u001b[0m\u001b[0m\n\u001b[0;32m    592\u001b[0m     \u001b[1;32mdef\u001b[0m \u001b[0m_get_options_with_defaults\u001b[0m\u001b[1;33m(\u001b[0m\u001b[0mself\u001b[0m\u001b[1;33m,\u001b[0m \u001b[0mengine\u001b[0m\u001b[1;33m)\u001b[0m\u001b[1;33m:\u001b[0m\u001b[1;33m\u001b[0m\u001b[0m\n",
      "\u001b[1;32m/opt/conda/lib/python3.5/site-packages/pandas/io/parsers.py\u001b[0m in \u001b[0;36m_make_engine\u001b[1;34m(self, engine)\u001b[0m\n\u001b[0;32m    729\u001b[0m     \u001b[1;32mdef\u001b[0m \u001b[0m_make_engine\u001b[0m\u001b[1;33m(\u001b[0m\u001b[0mself\u001b[0m\u001b[1;33m,\u001b[0m \u001b[0mengine\u001b[0m\u001b[1;33m=\u001b[0m\u001b[1;34m'c'\u001b[0m\u001b[1;33m)\u001b[0m\u001b[1;33m:\u001b[0m\u001b[1;33m\u001b[0m\u001b[0m\n\u001b[0;32m    730\u001b[0m         \u001b[1;32mif\u001b[0m \u001b[0mengine\u001b[0m \u001b[1;33m==\u001b[0m \u001b[1;34m'c'\u001b[0m\u001b[1;33m:\u001b[0m\u001b[1;33m\u001b[0m\u001b[0m\n\u001b[1;32m--> 731\u001b[1;33m             \u001b[0mself\u001b[0m\u001b[1;33m.\u001b[0m\u001b[0m_engine\u001b[0m \u001b[1;33m=\u001b[0m \u001b[0mCParserWrapper\u001b[0m\u001b[1;33m(\u001b[0m\u001b[0mself\u001b[0m\u001b[1;33m.\u001b[0m\u001b[0mf\u001b[0m\u001b[1;33m,\u001b[0m \u001b[1;33m**\u001b[0m\u001b[0mself\u001b[0m\u001b[1;33m.\u001b[0m\u001b[0moptions\u001b[0m\u001b[1;33m)\u001b[0m\u001b[1;33m\u001b[0m\u001b[0m\n\u001b[0m\u001b[0;32m    732\u001b[0m         \u001b[1;32melse\u001b[0m\u001b[1;33m:\u001b[0m\u001b[1;33m\u001b[0m\u001b[0m\n\u001b[0;32m    733\u001b[0m             \u001b[1;32mif\u001b[0m \u001b[0mengine\u001b[0m \u001b[1;33m==\u001b[0m \u001b[1;34m'python'\u001b[0m\u001b[1;33m:\u001b[0m\u001b[1;33m\u001b[0m\u001b[0m\n",
      "\u001b[1;32m/opt/conda/lib/python3.5/site-packages/pandas/io/parsers.py\u001b[0m in \u001b[0;36m__init__\u001b[1;34m(self, src, **kwds)\u001b[0m\n\u001b[0;32m   1101\u001b[0m         \u001b[0mkwds\u001b[0m\u001b[1;33m[\u001b[0m\u001b[1;34m'allow_leading_cols'\u001b[0m\u001b[1;33m]\u001b[0m \u001b[1;33m=\u001b[0m \u001b[0mself\u001b[0m\u001b[1;33m.\u001b[0m\u001b[0mindex_col\u001b[0m \u001b[1;32mis\u001b[0m \u001b[1;32mnot\u001b[0m \u001b[1;32mFalse\u001b[0m\u001b[1;33m\u001b[0m\u001b[0m\n\u001b[0;32m   1102\u001b[0m \u001b[1;33m\u001b[0m\u001b[0m\n\u001b[1;32m-> 1103\u001b[1;33m         \u001b[0mself\u001b[0m\u001b[1;33m.\u001b[0m\u001b[0m_reader\u001b[0m \u001b[1;33m=\u001b[0m \u001b[0m_parser\u001b[0m\u001b[1;33m.\u001b[0m\u001b[0mTextReader\u001b[0m\u001b[1;33m(\u001b[0m\u001b[0msrc\u001b[0m\u001b[1;33m,\u001b[0m \u001b[1;33m**\u001b[0m\u001b[0mkwds\u001b[0m\u001b[1;33m)\u001b[0m\u001b[1;33m\u001b[0m\u001b[0m\n\u001b[0m\u001b[0;32m   1104\u001b[0m \u001b[1;33m\u001b[0m\u001b[0m\n\u001b[0;32m   1105\u001b[0m         \u001b[1;31m# XXX\u001b[0m\u001b[1;33m\u001b[0m\u001b[1;33m\u001b[0m\u001b[0m\n",
      "\u001b[1;32mpandas/parser.pyx\u001b[0m in \u001b[0;36mpandas.parser.TextReader.__cinit__ (pandas/parser.c:3246)\u001b[1;34m()\u001b[0m\n",
      "\u001b[1;32mpandas/parser.pyx\u001b[0m in \u001b[0;36mpandas.parser.TextReader._setup_parser_source (pandas/parser.c:6111)\u001b[1;34m()\u001b[0m\n",
      "\u001b[1;31mOSError\u001b[0m: File b'data/Derived/client_info.csv' does not exist"
     ]
    }
   ],
   "source": [
    "cliente_tabla = pd.read_csv('../data/cliente_tabla.csv')\n",
    "producto_tabla = pd.read_csv('../data/producto_tabla.csv')\n",
    "test = pd.read_csv('../data/test.csv')\n",
    "train = pd.read_csv('../data/train.csv')\n",
    "town_state = pd.read_csv('../data/town_state.csv')\n",
    "client_info = pd.read_csv('../data/Derived/client_info.csv')\n",
    "pivot_test_train = pd.read_csv('../data/Derived/pivot_test_train.csv')"
   ]
  },
  {
   "cell_type": "code",
   "execution_count": 3,
   "metadata": {
    "collapsed": false,
    "scrolled": true
   },
   "outputs": [
    {
     "name": "stdout",
     "output_type": "stream",
     "text": [
      "Shape of training dataset: (74180464, 11)\n",
      "Different weeks in training dataset [3 4 5 6 7 8 9]\n"
     ]
    },
    {
     "data": {
      "text/html": [
       "<div>\n",
       "<table border=\"1\" class=\"dataframe\">\n",
       "  <thead>\n",
       "    <tr style=\"text-align: right;\">\n",
       "      <th></th>\n",
       "      <th>Semana</th>\n",
       "      <th>Agencia_ID</th>\n",
       "      <th>Canal_ID</th>\n",
       "      <th>Ruta_SAK</th>\n",
       "      <th>Cliente_ID</th>\n",
       "      <th>Producto_ID</th>\n",
       "      <th>Venta_uni_hoy</th>\n",
       "      <th>Venta_hoy</th>\n",
       "      <th>Dev_uni_proxima</th>\n",
       "      <th>Dev_proxima</th>\n",
       "      <th>Demanda_uni_equil</th>\n",
       "    </tr>\n",
       "  </thead>\n",
       "  <tbody>\n",
       "    <tr>\n",
       "      <th>66598986</th>\n",
       "      <td>9</td>\n",
       "      <td>1315</td>\n",
       "      <td>1</td>\n",
       "      <td>5056</td>\n",
       "      <td>357381</td>\n",
       "      <td>43039</td>\n",
       "      <td>3</td>\n",
       "      <td>25.14</td>\n",
       "      <td>0</td>\n",
       "      <td>0.0</td>\n",
       "      <td>3</td>\n",
       "    </tr>\n",
       "    <tr>\n",
       "      <th>67949617</th>\n",
       "      <td>9</td>\n",
       "      <td>1445</td>\n",
       "      <td>1</td>\n",
       "      <td>1154</td>\n",
       "      <td>157241</td>\n",
       "      <td>43202</td>\n",
       "      <td>2</td>\n",
       "      <td>16.76</td>\n",
       "      <td>0</td>\n",
       "      <td>0.0</td>\n",
       "      <td>2</td>\n",
       "    </tr>\n",
       "    <tr>\n",
       "      <th>18208561</th>\n",
       "      <td>4</td>\n",
       "      <td>1954</td>\n",
       "      <td>1</td>\n",
       "      <td>2846</td>\n",
       "      <td>4354832</td>\n",
       "      <td>30532</td>\n",
       "      <td>5</td>\n",
       "      <td>38.90</td>\n",
       "      <td>0</td>\n",
       "      <td>0.0</td>\n",
       "      <td>5</td>\n",
       "    </tr>\n",
       "    <tr>\n",
       "      <th>27472543</th>\n",
       "      <td>5</td>\n",
       "      <td>1614</td>\n",
       "      <td>1</td>\n",
       "      <td>1026</td>\n",
       "      <td>289208</td>\n",
       "      <td>46772</td>\n",
       "      <td>5</td>\n",
       "      <td>44.60</td>\n",
       "      <td>0</td>\n",
       "      <td>0.0</td>\n",
       "      <td>5</td>\n",
       "    </tr>\n",
       "    <tr>\n",
       "      <th>28369742</th>\n",
       "      <td>5</td>\n",
       "      <td>1698</td>\n",
       "      <td>1</td>\n",
       "      <td>1224</td>\n",
       "      <td>2006574</td>\n",
       "      <td>41938</td>\n",
       "      <td>4</td>\n",
       "      <td>39.64</td>\n",
       "      <td>0</td>\n",
       "      <td>0.0</td>\n",
       "      <td>4</td>\n",
       "    </tr>\n",
       "  </tbody>\n",
       "</table>\n",
       "</div>"
      ],
      "text/plain": [
       "          Semana  Agencia_ID  Canal_ID  Ruta_SAK  Cliente_ID  Producto_ID  Venta_uni_hoy  Venta_hoy  Dev_uni_proxima  Dev_proxima  Demanda_uni_equil\n",
       "66598986       9        1315         1      5056      357381        43039              3      25.14                0          0.0                  3\n",
       "67949617       9        1445         1      1154      157241        43202              2      16.76                0          0.0                  2\n",
       "18208561       4        1954         1      2846     4354832        30532              5      38.90                0          0.0                  5\n",
       "27472543       5        1614         1      1026      289208        46772              5      44.60                0          0.0                  5\n",
       "28369742       5        1698         1      1224     2006574        41938              4      39.64                0          0.0                  4"
      ]
     },
     "execution_count": 3,
     "metadata": {},
     "output_type": "execute_result"
    }
   ],
   "source": [
    "print('Shape of training dataset: %s' %str(train.shape))\n",
    "print('Different weeks in training dataset %s' %str(np.unique(train['Semana'])))\n",
    "train.sample(5)"
   ]
  },
  {
   "cell_type": "code",
   "execution_count": 4,
   "metadata": {
    "collapsed": false
   },
   "outputs": [
    {
     "name": "stdout",
     "output_type": "stream",
     "text": [
      "Shape of test dataset: (6999251, 7)\n",
      "Different weeks in test dataset [10 11]\n",
      "Percent observations to test on week 10 51.0\n",
      "Percent observations to test on week 11 49.0\n",
      "These match with the percent of test observations that will be used for leaderbord evaluation         (51 percent) and for private evaulation (49 percent) as explained on the leaderbord page\n"
     ]
    },
    {
     "data": {
      "text/html": [
       "<div>\n",
       "<table border=\"1\" class=\"dataframe\">\n",
       "  <thead>\n",
       "    <tr style=\"text-align: right;\">\n",
       "      <th></th>\n",
       "      <th>id</th>\n",
       "      <th>Semana</th>\n",
       "      <th>Agencia_ID</th>\n",
       "      <th>Canal_ID</th>\n",
       "      <th>Ruta_SAK</th>\n",
       "      <th>Cliente_ID</th>\n",
       "      <th>Producto_ID</th>\n",
       "    </tr>\n",
       "  </thead>\n",
       "  <tbody>\n",
       "    <tr>\n",
       "      <th>4080418</th>\n",
       "      <td>4080418</td>\n",
       "      <td>10</td>\n",
       "      <td>1221</td>\n",
       "      <td>1</td>\n",
       "      <td>4428</td>\n",
       "      <td>4356582</td>\n",
       "      <td>43064</td>\n",
       "    </tr>\n",
       "    <tr>\n",
       "      <th>6821069</th>\n",
       "      <td>6821069</td>\n",
       "      <td>11</td>\n",
       "      <td>22560</td>\n",
       "      <td>1</td>\n",
       "      <td>1220</td>\n",
       "      <td>4558827</td>\n",
       "      <td>43196</td>\n",
       "    </tr>\n",
       "    <tr>\n",
       "      <th>4303078</th>\n",
       "      <td>4303078</td>\n",
       "      <td>10</td>\n",
       "      <td>1631</td>\n",
       "      <td>1</td>\n",
       "      <td>2101</td>\n",
       "      <td>281640</td>\n",
       "      <td>40930</td>\n",
       "    </tr>\n",
       "    <tr>\n",
       "      <th>3651119</th>\n",
       "      <td>3651119</td>\n",
       "      <td>11</td>\n",
       "      <td>22560</td>\n",
       "      <td>1</td>\n",
       "      <td>1073</td>\n",
       "      <td>2170071</td>\n",
       "      <td>43006</td>\n",
       "    </tr>\n",
       "    <tr>\n",
       "      <th>3748106</th>\n",
       "      <td>3748106</td>\n",
       "      <td>11</td>\n",
       "      <td>22362</td>\n",
       "      <td>1</td>\n",
       "      <td>1230</td>\n",
       "      <td>1797375</td>\n",
       "      <td>1182</td>\n",
       "    </tr>\n",
       "  </tbody>\n",
       "</table>\n",
       "</div>"
      ],
      "text/plain": [
       "              id  Semana  Agencia_ID  Canal_ID  Ruta_SAK  Cliente_ID  Producto_ID\n",
       "4080418  4080418      10        1221         1      4428     4356582        43064\n",
       "6821069  6821069      11       22560         1      1220     4558827        43196\n",
       "4303078  4303078      10        1631         1      2101      281640        40930\n",
       "3651119  3651119      11       22560         1      1073     2170071        43006\n",
       "3748106  3748106      11       22362         1      1230     1797375         1182"
      ]
     },
     "execution_count": 4,
     "metadata": {},
     "output_type": "execute_result"
    }
   ],
   "source": [
    "print('Shape of test dataset: %s' %str(test.shape))\n",
    "print('Different weeks in test dataset %s' %str(np.unique(test['Semana'])))\n",
    "print('Percent observations to test on week 10 %s' %str(np.round(np.sum(test['Semana']==10)*100/float(len(test)))))\n",
    "print('Percent observations to test on week 11 %s' %str(np.round(np.sum(test['Semana']==11)*100/float(len(test)))))\n",
    "print('These match with the percent of test observations that will be used for leaderbord evaluation \\\n",
    "        (51 percent) and for private evaulation (49 percent) as explained on the leaderbord page')\n",
    "test.sample(5)"
   ]
  },
  {
   "cell_type": "code",
   "execution_count": 5,
   "metadata": {
    "collapsed": false
   },
   "outputs": [
    {
     "data": {
      "text/html": [
       "<div>\n",
       "<table border=\"1\" class=\"dataframe\">\n",
       "  <thead>\n",
       "    <tr style=\"text-align: right;\">\n",
       "      <th></th>\n",
       "      <th>Cliente_ID</th>\n",
       "      <th>NombreCliente</th>\n",
       "    </tr>\n",
       "  </thead>\n",
       "  <tbody>\n",
       "    <tr>\n",
       "      <th>437575</th>\n",
       "      <td>1742954</td>\n",
       "      <td>ABARROTES IVON</td>\n",
       "    </tr>\n",
       "    <tr>\n",
       "      <th>154831</th>\n",
       "      <td>391492</td>\n",
       "      <td>JOSE SANTOS NAVA</td>\n",
       "    </tr>\n",
       "    <tr>\n",
       "      <th>287444</th>\n",
       "      <td>942484</td>\n",
       "      <td>LUZ ELENA</td>\n",
       "    </tr>\n",
       "    <tr>\n",
       "      <th>675346</th>\n",
       "      <td>4294371</td>\n",
       "      <td>NO IDENTIFICADO</td>\n",
       "    </tr>\n",
       "    <tr>\n",
       "      <th>803986</th>\n",
       "      <td>4592086</td>\n",
       "      <td>NO IDENTIFICADO</td>\n",
       "    </tr>\n",
       "  </tbody>\n",
       "</table>\n",
       "</div>"
      ],
      "text/plain": [
       "        Cliente_ID     NombreCliente\n",
       "437575     1742954    ABARROTES IVON\n",
       "154831      391492  JOSE SANTOS NAVA\n",
       "287444      942484         LUZ ELENA\n",
       "675346     4294371   NO IDENTIFICADO\n",
       "803986     4592086   NO IDENTIFICADO"
      ]
     },
     "execution_count": 5,
     "metadata": {},
     "output_type": "execute_result"
    }
   ],
   "source": [
    "cliente_tabla.sample(5)"
   ]
  },
  {
   "cell_type": "code",
   "execution_count": 6,
   "metadata": {
    "collapsed": false
   },
   "outputs": [
    {
     "data": {
      "text/html": [
       "<div>\n",
       "<table border=\"1\" class=\"dataframe\">\n",
       "  <thead>\n",
       "    <tr style=\"text-align: right;\">\n",
       "      <th></th>\n",
       "      <th>Producto_ID</th>\n",
       "      <th>NombreProducto</th>\n",
       "    </tr>\n",
       "  </thead>\n",
       "  <tbody>\n",
       "    <tr>\n",
       "      <th>2</th>\n",
       "      <td>41</td>\n",
       "      <td>Bimbollos Ext sAjonjoli 6p 480g BIM 41</td>\n",
       "    </tr>\n",
       "    <tr>\n",
       "      <th>1120</th>\n",
       "      <td>34403</td>\n",
       "      <td>Tartina Zarzamora 2p 26g TR 34403</td>\n",
       "    </tr>\n",
       "    <tr>\n",
       "      <th>2584</th>\n",
       "      <td>49988</td>\n",
       "      <td>Tostado Blanco 180g MTA WON 49988</td>\n",
       "    </tr>\n",
       "    <tr>\n",
       "      <th>1739</th>\n",
       "      <td>36907</td>\n",
       "      <td>Tostado Integral 250g TNB BIM 36907</td>\n",
       "    </tr>\n",
       "    <tr>\n",
       "      <th>1906</th>\n",
       "      <td>37612</td>\n",
       "      <td>Atun en Aceite 140g NAI 37612</td>\n",
       "    </tr>\n",
       "  </tbody>\n",
       "</table>\n",
       "</div>"
      ],
      "text/plain": [
       "      Producto_ID                          NombreProducto\n",
       "2              41  Bimbollos Ext sAjonjoli 6p 480g BIM 41\n",
       "1120        34403       Tartina Zarzamora 2p 26g TR 34403\n",
       "2584        49988       Tostado Blanco 180g MTA WON 49988\n",
       "1739        36907     Tostado Integral 250g TNB BIM 36907\n",
       "1906        37612           Atun en Aceite 140g NAI 37612"
      ]
     },
     "execution_count": 6,
     "metadata": {},
     "output_type": "execute_result"
    }
   ],
   "source": [
    "producto_tabla.sample(5)"
   ]
  },
  {
   "cell_type": "code",
   "execution_count": 7,
   "metadata": {
    "collapsed": false
   },
   "outputs": [
    {
     "data": {
      "text/html": [
       "<div>\n",
       "<table border=\"1\" class=\"dataframe\">\n",
       "  <thead>\n",
       "    <tr style=\"text-align: right;\">\n",
       "      <th></th>\n",
       "      <th>Agencia_ID</th>\n",
       "      <th>Town</th>\n",
       "      <th>State</th>\n",
       "    </tr>\n",
       "  </thead>\n",
       "  <tbody>\n",
       "    <tr>\n",
       "      <th>534</th>\n",
       "      <td>4082</td>\n",
       "      <td>2493 MITRAS</td>\n",
       "      <td>NUEVO LEÓN</td>\n",
       "    </tr>\n",
       "    <tr>\n",
       "      <th>16</th>\n",
       "      <td>1129</td>\n",
       "      <td>2011 AG. SAN ANTONIO</td>\n",
       "      <td>MÉXICO, D.F.</td>\n",
       "    </tr>\n",
       "    <tr>\n",
       "      <th>432</th>\n",
       "      <td>2218</td>\n",
       "      <td>2381 CANCUN_BM</td>\n",
       "      <td>QUINTANA ROO</td>\n",
       "    </tr>\n",
       "    <tr>\n",
       "      <th>433</th>\n",
       "      <td>2220</td>\n",
       "      <td>2395 PLAYA DEL CARMEN</td>\n",
       "      <td>QUINTANA ROO</td>\n",
       "    </tr>\n",
       "    <tr>\n",
       "      <th>382</th>\n",
       "      <td>2040</td>\n",
       "      <td>2181 ZIHUATANEJO</td>\n",
       "      <td>GUERRERO</td>\n",
       "    </tr>\n",
       "  </tbody>\n",
       "</table>\n",
       "</div>"
      ],
      "text/plain": [
       "     Agencia_ID                   Town         State\n",
       "534        4082            2493 MITRAS    NUEVO LEÓN\n",
       "16         1129   2011 AG. SAN ANTONIO  MÉXICO, D.F.\n",
       "432        2218         2381 CANCUN_BM  QUINTANA ROO\n",
       "433        2220  2395 PLAYA DEL CARMEN  QUINTANA ROO\n",
       "382        2040       2181 ZIHUATANEJO      GUERRERO"
      ]
     },
     "execution_count": 7,
     "metadata": {},
     "output_type": "execute_result"
    }
   ],
   "source": [
    "town_state.sample(5)"
   ]
  },
  {
   "cell_type": "markdown",
   "metadata": {},
   "source": [
    "# Kaggle description\n",
    "### Maximize sales and minimize returns of bakery goods\n",
    "Planning a celebration is a balancing act of preparing just enough food to go around without being stuck eating the same leftovers for the next week. The key is anticipating how many guests will come. Grupo Bimbo must weigh similar considerations as it strives to meet daily consumer demand for fresh bakery products on the shelves of over 1 million stores along its 45,000 routes across Mexico.<br><br>\n",
    "Currently, daily inventory calculations are performed by direct delivery sales employees who must single-handedly predict the forces of supply, demand, and hunger based on their personal experiences with each store. With some breads carrying a one week shelf life, the acceptable margin for error is small.<br><br>\n",
    "In this competition, Grupo Bimbo invites Kagglers to develop a model to accurately forecast inventory demand based on historical sales data. Doing so will make sure consumers of its over 100 bakery products aren’t staring at empty shelves, while also reducing the amount spent on refunds to store owners with surplus product unfit for sale.<br>"
   ]
  },
  {
   "cell_type": "markdown",
   "metadata": {},
   "source": [
    "# Kaggle data info\n",
    "\n",
    "In this competition, you will forecast the demand of a product for a given week, at a particular store. The dataset you are given consists of 9 weeks of sales transactions in Mexico. Every week, there are delivery trucks that deliver products to the vendors. Each transaction consists of sales and returns. Returns are the products that are unsold and expired. The demand for a product in a certain week is defined as the sales this week subtracted by the return next week. <br>\n",
    "The train and test dataset are split based on time, as well as the public and private leaderboard dataset split.<br>\n",
    "\n",
    "### Things to note:\n",
    "There may be products in the test set that don't exist in the train set. This is the expected behavior of inventory data, since there are new products being sold all the time. Your model should be able to accommodate this.<br><br>\n",
    "There are duplicate Cliente_ID's in cliente_tabla, which means one Cliente_ID may have multiple NombreCliente that are very similar. This is due to the NombreCliente being noisy and not standardized in the raw data, so it is up to you to decide how to clean up and use this information. <br><br>\n",
    "The adjusted demand (Demanda_uni_equil) is always >= 0 since demand should be either 0 or a positive value. The reason that Venta_uni_hoy - Dev_uni_proxima sometimes has negative values is that the returns records sometimes carry over a few weeks.<br>\n",
    "### File descriptions<br>\n",
    "- train.csv — the training set<br>\n",
    "- test.csv — the test set<br>\n",
    "- sample_submission.csv — a sample submission file in the correct format<br>\n",
    "- cliente_tabla.csv — client names (can be joined with train/test on Cliente_ID)<br>\n",
    "- producto_tabla.csv — product names (can be joined with train/test on Producto_ID)<br>\n",
    "- town_state.csv — town and state (can be joined with train/test on Agencia_ID)<br>\n",
    "\n",
    "### Data fields<br>\n",
    "- Semana — Week number (From Thursday to Wednesday)<br>\n",
    "- Agencia_ID — Sales Depot ID<br>\n",
    "- Canal_ID — Sales Channel ID<br>\n",
    "- Ruta_SAK — Route ID (Several routes = Sales Depot)<br>\n",
    "- Cliente_ID — Client ID<br>\n",
    "- NombreCliente — Client name<br>\n",
    "- Producto_ID — Product ID<br>\n",
    "- NombreProducto — Product Name<br>\n",
    "- Venta_uni_hoy — Sales unit this week (integer)<br>\n",
    "- Venta_hoy — Sales this week (unit: pesos)<br>\n",
    "- Dev_uni_proxima — Returns unit next week (integer)<br>\n",
    "- Dev_proxima — Returns next week (unit: pesos)<br>\n",
    "- Demanda_uni_equil — Adjusted Demand (integer) (This is the target you will predict)<br>"
   ]
  },
  {
   "cell_type": "markdown",
   "metadata": {},
   "source": [
    "# Kaggle evaluation info\n",
    "The evaluation metric for this competition is Root Mean Squared Logarithmic Error.\n",
    "\n",
    "The RMSLE is calculated as <br>\n",
    "\n",
    "For every row in the dataset, submission files should contain two columns: id and Demanda_uni_equi.  The id corresponds to the column of that id in the test.csv. The file should contain a header and have the following format:"
   ]
  },
  {
   "cell_type": "code",
   "execution_count": 8,
   "metadata": {
    "collapsed": false
   },
   "outputs": [
    {
     "data": {
      "text/html": [
       "<div>\n",
       "<table border=\"1\" class=\"dataframe\">\n",
       "  <thead>\n",
       "    <tr style=\"text-align: right;\">\n",
       "      <th></th>\n",
       "      <th>id</th>\n",
       "      <th>Demanda_uni_equil</th>\n",
       "    </tr>\n",
       "  </thead>\n",
       "  <tbody>\n",
       "    <tr>\n",
       "      <th>0</th>\n",
       "      <td>0</td>\n",
       "      <td>7</td>\n",
       "    </tr>\n",
       "    <tr>\n",
       "      <th>1</th>\n",
       "      <td>1</td>\n",
       "      <td>7</td>\n",
       "    </tr>\n",
       "    <tr>\n",
       "      <th>2</th>\n",
       "      <td>2</td>\n",
       "      <td>7</td>\n",
       "    </tr>\n",
       "    <tr>\n",
       "      <th>3</th>\n",
       "      <td>3</td>\n",
       "      <td>7</td>\n",
       "    </tr>\n",
       "    <tr>\n",
       "      <th>4</th>\n",
       "      <td>4</td>\n",
       "      <td>7</td>\n",
       "    </tr>\n",
       "  </tbody>\n",
       "</table>\n",
       "</div>"
      ],
      "text/plain": [
       "   id  Demanda_uni_equil\n",
       "0   0                  7\n",
       "1   1                  7\n",
       "2   2                  7\n",
       "3   3                  7\n",
       "4   4                  7"
      ]
     },
     "execution_count": 8,
     "metadata": {},
     "output_type": "execute_result"
    }
   ],
   "source": [
    "sample_submission = pd.read_csv('sample_submission.csv')\n",
    "sample_submission.head()"
   ]
  },
  {
   "cell_type": "markdown",
   "metadata": {},
   "source": [
    "# Investigate one client ID"
   ]
  },
  {
   "cell_type": "code",
   "execution_count": 9,
   "metadata": {
    "collapsed": false
   },
   "outputs": [
    {
     "name": "stdout",
     "output_type": "stream",
     "text": [
      "There are 880604 amount of clients\n"
     ]
    }
   ],
   "source": [
    "print('There are %i amount of clients' %len(np.unique(train['Cliente_ID'])))"
   ]
  },
  {
   "cell_type": "code",
   "execution_count": 10,
   "metadata": {
    "collapsed": false
   },
   "outputs": [
    {
     "name": "stdout",
     "output_type": "stream",
     "text": [
      "Client names: ['EL RETOÑO']\n",
      "How many different products does he need: 41\n"
     ]
    },
    {
     "data": {
      "text/html": [
       "<div>\n",
       "<table border=\"1\" class=\"dataframe\">\n",
       "  <thead>\n",
       "    <tr style=\"text-align: right;\">\n",
       "      <th></th>\n",
       "      <th>Semana</th>\n",
       "      <th>Agencia_ID</th>\n",
       "      <th>Canal_ID</th>\n",
       "      <th>Ruta_SAK</th>\n",
       "      <th>Cliente_ID</th>\n",
       "      <th>Producto_ID</th>\n",
       "      <th>Venta_uni_hoy</th>\n",
       "      <th>Venta_hoy</th>\n",
       "      <th>Dev_uni_proxima</th>\n",
       "      <th>Dev_proxima</th>\n",
       "      <th>Demanda_uni_equil</th>\n",
       "      <th>NombreCliente</th>\n",
       "    </tr>\n",
       "  </thead>\n",
       "  <tbody>\n",
       "    <tr>\n",
       "      <th>16</th>\n",
       "      <td>4</td>\n",
       "      <td>1955</td>\n",
       "      <td>1</td>\n",
       "      <td>1114</td>\n",
       "      <td>575075</td>\n",
       "      <td>1240</td>\n",
       "      <td>3</td>\n",
       "      <td>25.14</td>\n",
       "      <td>0</td>\n",
       "      <td>0.0</td>\n",
       "      <td>3</td>\n",
       "      <td>EL RETOÑO</td>\n",
       "    </tr>\n",
       "    <tr>\n",
       "      <th>68</th>\n",
       "      <td>7</td>\n",
       "      <td>1955</td>\n",
       "      <td>1</td>\n",
       "      <td>1114</td>\n",
       "      <td>575075</td>\n",
       "      <td>48417</td>\n",
       "      <td>6</td>\n",
       "      <td>27.48</td>\n",
       "      <td>0</td>\n",
       "      <td>0.0</td>\n",
       "      <td>6</td>\n",
       "      <td>EL RETOÑO</td>\n",
       "    </tr>\n",
       "    <tr>\n",
       "      <th>75</th>\n",
       "      <td>8</td>\n",
       "      <td>1955</td>\n",
       "      <td>1</td>\n",
       "      <td>1114</td>\n",
       "      <td>575075</td>\n",
       "      <td>1240</td>\n",
       "      <td>3</td>\n",
       "      <td>25.14</td>\n",
       "      <td>0</td>\n",
       "      <td>0.0</td>\n",
       "      <td>3</td>\n",
       "      <td>EL RETOÑO</td>\n",
       "    </tr>\n",
       "    <tr>\n",
       "      <th>25</th>\n",
       "      <td>4</td>\n",
       "      <td>1955</td>\n",
       "      <td>1</td>\n",
       "      <td>4137</td>\n",
       "      <td>575075</td>\n",
       "      <td>43064</td>\n",
       "      <td>1</td>\n",
       "      <td>8.15</td>\n",
       "      <td>0</td>\n",
       "      <td>0.0</td>\n",
       "      <td>1</td>\n",
       "      <td>EL RETOÑO</td>\n",
       "    </tr>\n",
       "    <tr>\n",
       "      <th>14</th>\n",
       "      <td>3</td>\n",
       "      <td>1955</td>\n",
       "      <td>1</td>\n",
       "      <td>4137</td>\n",
       "      <td>575075</td>\n",
       "      <td>43084</td>\n",
       "      <td>1</td>\n",
       "      <td>8.15</td>\n",
       "      <td>0</td>\n",
       "      <td>0.0</td>\n",
       "      <td>1</td>\n",
       "      <td>EL RETOÑO</td>\n",
       "    </tr>\n",
       "  </tbody>\n",
       "</table>\n",
       "</div>"
      ],
      "text/plain": [
       "    Semana  Agencia_ID  Canal_ID  Ruta_SAK  Cliente_ID  Producto_ID  Venta_uni_hoy  Venta_hoy  Dev_uni_proxima  Dev_proxima  Demanda_uni_equil NombreCliente\n",
       "16       4        1955         1      1114      575075         1240              3      25.14                0          0.0                  3     EL RETOÑO\n",
       "68       7        1955         1      1114      575075        48417              6      27.48                0          0.0                  6     EL RETOÑO\n",
       "75       8        1955         1      1114      575075         1240              3      25.14                0          0.0                  3     EL RETOÑO\n",
       "25       4        1955         1      4137      575075        43064              1       8.15                0          0.0                  1     EL RETOÑO\n",
       "14       3        1955         1      4137      575075        43084              1       8.15                0          0.0                  1     EL RETOÑO"
      ]
     },
     "execution_count": 10,
     "metadata": {},
     "output_type": "execute_result"
    }
   ],
   "source": [
    "random_client_id = np.random.choice(np.unique(train['Cliente_ID']), size = 1)[0]\n",
    "subset_random_client = train.loc[train['Cliente_ID'] == random_client_id, :]\n",
    "subset_random_client = pd.merge(subset_random_client, \n",
    "                                cliente_tabla.loc[cliente_tabla['Cliente_ID'] == random_client_id, :],\n",
    "                               left_on='Cliente_ID', right_on='Cliente_ID', how='left')\n",
    "print('Client names: %s' %np.unique(subset_random_client['NombreCliente']))\n",
    "print('How many different products does he need: %i' %len(np.unique(subset_random_client['Producto_ID'])))\n",
    "subset_random_client.sample(5)"
   ]
  },
  {
   "cell_type": "markdown",
   "metadata": {},
   "source": [
    "Important: during the last week, not all the products are delivered."
   ]
  },
  {
   "cell_type": "code",
   "execution_count": 11,
   "metadata": {
    "collapsed": false
   },
   "outputs": [
    {
     "name": "stdout",
     "output_type": "stream",
     "text": [
      "Number of unique products of this store 41\n",
      "Number of lines in last week DF 14\n",
      "Number of unique products last week DF 14\n"
     ]
    }
   ],
   "source": [
    "print('Number of unique products of this store %i' %len(np.unique(subset_random_client['Producto_ID'])))\n",
    "last_week = subset_random_client.loc[subset_random_client['Semana'] == 9]\n",
    "print('Number of lines in last week DF %i' %len(last_week))\n",
    "print('Number of unique products last week DF %i' %len(np.unique(last_week['Producto_ID'])))"
   ]
  },
  {
   "cell_type": "code",
   "execution_count": 12,
   "metadata": {
    "collapsed": false
   },
   "outputs": [
    {
     "data": {
      "text/plain": [
       "[<matplotlib.lines.Line2D at 0x10c452ba8>]"
      ]
     },
     "execution_count": 12,
     "metadata": {},
     "output_type": "execute_result"
    },
    {
     "data": {
      "image/png": "[encoded data removed]",
      "text/plain": [
       "<matplotlib.figure.Figure at 0x117bc6f98>"
      ]
     },
     "metadata": {},
     "output_type": "display_data"
    }
   ],
   "source": [
    "from scipy.interpolate import UnivariateSpline\n",
    "groupby_week = subset_random_client.groupby('Semana')['Demanda_uni_equil'].aggregate('sum')\n",
    "plt.plot(groupby_week)\n",
    "\n",
    "spl = UnivariateSpline(groupby_week.index.values, groupby_week.values, k=2, s=10000)\n",
    "plt.plot(groupby_week.index.values, spl(groupby_week.index.values), 'g', lw=3)"
   ]
  },
  {
   "cell_type": "markdown",
   "metadata": {},
   "source": [
    "### There seems to be clients in the test data that were not in the training data"
   ]
  },
  {
   "cell_type": "code",
   "execution_count": 13,
   "metadata": {
    "collapsed": false
   },
   "outputs": [
    {
     "data": {
      "text/plain": [
       "0.99570611198255354"
      ]
     },
     "execution_count": 13,
     "metadata": {},
     "output_type": "execute_result"
    }
   ],
   "source": [
    "train_clients = np.unique(train['Cliente_ID'])\n",
    "test_isin = test['Cliente_ID'].isin(train_clients)\n",
    "sum(test_isin)/len(test_isin)"
   ]
  },
  {
   "cell_type": "markdown",
   "metadata": {},
   "source": [
    "# Asses a product"
   ]
  },
  {
   "cell_type": "code",
   "execution_count": 32,
   "metadata": {
    "collapsed": false
   },
   "outputs": [
    {
     "name": "stdout",
     "output_type": "stream",
     "text": [
      "There are 1799 amount of products\n"
     ]
    }
   ],
   "source": [
    "print('There are %i amount of products' %len(np.unique(train['Producto_ID'])))"
   ]
  },
  {
   "cell_type": "code",
   "execution_count": null,
   "metadata": {
    "collapsed": true
   },
   "outputs": [],
   "source": [
    "training_products = np.unique(train['Producto_ID'])\n",
    "test_10_products = np.unique(test.loc[test['Semana']==10, 'Producto_ID'])\n",
    "test_11_products = np.unique(test.loc[test['Semana']==11, 'Producto_ID'])\n",
    "print('Percent of products in test 10 and test 11 that are seen in training data')\n",
    "print(sum(pd.Series(test_10_products).isin(training_products))/len(test_10_products))\n",
    "print(sum(pd.Series(test_11_products).isin(training_products))/len(test_11_products))"
   ]
  },
  {
   "cell_type": "code",
   "execution_count": 30,
   "metadata": {
    "collapsed": false
   },
   "outputs": [
    {
     "data": {
      "text/html": [
       "<div>\n",
       "<table border=\"1\" class=\"dataframe\">\n",
       "  <thead>\n",
       "    <tr style=\"text-align: right;\">\n",
       "      <th></th>\n",
       "      <th>Semana</th>\n",
       "      <th>Agencia_ID</th>\n",
       "      <th>Canal_ID</th>\n",
       "      <th>Ruta_SAK</th>\n",
       "      <th>Cliente_ID</th>\n",
       "      <th>Producto_ID</th>\n",
       "      <th>Venta_uni_hoy</th>\n",
       "      <th>Venta_hoy</th>\n",
       "      <th>Dev_uni_proxima</th>\n",
       "      <th>Dev_proxima</th>\n",
       "      <th>Demanda_uni_equil</th>\n",
       "    </tr>\n",
       "  </thead>\n",
       "  <tbody>\n",
       "    <tr>\n",
       "      <th>16553665</th>\n",
       "      <td>4</td>\n",
       "      <td>1597</td>\n",
       "      <td>2</td>\n",
       "      <td>1553</td>\n",
       "      <td>29613</td>\n",
       "      <td>35439</td>\n",
       "      <td>34</td>\n",
       "      <td>680.0</td>\n",
       "      <td>0</td>\n",
       "      <td>0.00</td>\n",
       "      <td>34</td>\n",
       "    </tr>\n",
       "    <tr>\n",
       "      <th>73821696</th>\n",
       "      <td>9</td>\n",
       "      <td>4064</td>\n",
       "      <td>2</td>\n",
       "      <td>1528</td>\n",
       "      <td>146870</td>\n",
       "      <td>35439</td>\n",
       "      <td>0</td>\n",
       "      <td>0.0</td>\n",
       "      <td>68</td>\n",
       "      <td>1292.68</td>\n",
       "      <td>0</td>\n",
       "    </tr>\n",
       "    <tr>\n",
       "      <th>68825007</th>\n",
       "      <td>9</td>\n",
       "      <td>1586</td>\n",
       "      <td>2</td>\n",
       "      <td>1570</td>\n",
       "      <td>26932</td>\n",
       "      <td>35439</td>\n",
       "      <td>102</td>\n",
       "      <td>2040.0</td>\n",
       "      <td>0</td>\n",
       "      <td>0.00</td>\n",
       "      <td>102</td>\n",
       "    </tr>\n",
       "    <tr>\n",
       "      <th>3935980</th>\n",
       "      <td>3</td>\n",
       "      <td>1359</td>\n",
       "      <td>2</td>\n",
       "      <td>1605</td>\n",
       "      <td>35518</td>\n",
       "      <td>35439</td>\n",
       "      <td>68</td>\n",
       "      <td>1360.0</td>\n",
       "      <td>0</td>\n",
       "      <td>0.00</td>\n",
       "      <td>68</td>\n",
       "    </tr>\n",
       "    <tr>\n",
       "      <th>16479219</th>\n",
       "      <td>4</td>\n",
       "      <td>1578</td>\n",
       "      <td>2</td>\n",
       "      <td>1563</td>\n",
       "      <td>26204</td>\n",
       "      <td>35439</td>\n",
       "      <td>34</td>\n",
       "      <td>680.0</td>\n",
       "      <td>0</td>\n",
       "      <td>0.00</td>\n",
       "      <td>34</td>\n",
       "    </tr>\n",
       "  </tbody>\n",
       "</table>\n",
       "</div>"
      ],
      "text/plain": [
       "          Semana  Agencia_ID  Canal_ID  Ruta_SAK  Cliente_ID  Producto_ID  \\\n",
       "16553665       4        1597         2      1553       29613        35439   \n",
       "73821696       9        4064         2      1528      146870        35439   \n",
       "68825007       9        1586         2      1570       26932        35439   \n",
       "3935980        3        1359         2      1605       35518        35439   \n",
       "16479219       4        1578         2      1563       26204        35439   \n",
       "\n",
       "          Venta_uni_hoy  Venta_hoy  Dev_uni_proxima  Dev_proxima  \\\n",
       "16553665             34      680.0                0         0.00   \n",
       "73821696              0        0.0               68      1292.68   \n",
       "68825007            102     2040.0                0         0.00   \n",
       "3935980              68     1360.0                0         0.00   \n",
       "16479219             34      680.0                0         0.00   \n",
       "\n",
       "          Demanda_uni_equil  \n",
       "16553665                 34  \n",
       "73821696                  0  \n",
       "68825007                102  \n",
       "3935980                  68  \n",
       "16479219                 34  "
      ]
     },
     "execution_count": 30,
     "metadata": {},
     "output_type": "execute_result"
    }
   ],
   "source": [
    "random_product_id = np.random.choice(np.unique(train['Producto_ID']), size = 1)[0]\n",
    "subset_random_product = train.loc[train['Producto_ID'] == random_product_id, :]\n",
    "groupby_week = pd.DataFrame(subset_random_product.groupby('Semana')['Demanda_uni_equil'].aggregate('sum'))\n",
    "plt.plot(groupby_week)\n",
    "groupby_week['intercept'] = 0\n",
    "X = np.zeros(shape = (len(groupby_week),3))\n",
    "X[:,0] = 1\n",
    "X[:,1] = groupby_week.index.values\n",
    "X[:,2] = np.square(groupby_week.index.values)\n",
    "y = groupby_week['Demanda_uni_equil'].values \n",
    "lin_model = linear_model.RidgeCV()\n",
    "lin_model.fit(X = X, y = y)\n",
    "plt.plot(groupby_week.index.values, lin_model.predict(X), 'g', lw=3)"
   ]
  },
  {
   "cell_type": "markdown",
   "metadata": {},
   "source": [
    "# Asses product size"
   ]
  },
  {
   "cell_type": "code",
   "execution_count": null,
   "metadata": {
    "collapsed": true
   },
   "outputs": [],
   "source": [
    "groupby_product = train.groupby('Producto_ID')['Cliente_ID']\n",
    "def return_number_of_unique_values(arr):\n",
    "    return len(np.unique(arr))\n",
    "groupby_product = groupby_product.aggregate(return_number_of_unique_values)\n",
    "groupby_product.hist()\n",
    "plt.title('At how many stores is a product delivered')"
   ]
  },
  {
   "cell_type": "markdown",
   "metadata": {},
   "source": [
    "# Asses store size"
   ]
  },
  {
   "cell_type": "code",
   "execution_count": 39,
   "metadata": {
    "collapsed": false
   },
   "outputs": [
    {
     "name": "stdout",
     "output_type": "stream",
     "text": [
      "There are 880604 amount of stores\n"
     ]
    }
   ],
   "source": [
    "print('There are %i amount of stores' %len(np.unique(train['Cliente_ID'])))"
   ]
  },
  {
   "cell_type": "code",
   "execution_count": 45,
   "metadata": {
    "collapsed": false
   },
   "outputs": [
    {
     "data": {
      "image/png": "[encoded data removed]",
      "text/plain": [
       "<matplotlib.figure.Figure at 0x11eea3c88>"
      ]
     },
     "metadata": {},
     "output_type": "display_data"
    }
   ],
   "source": [
    "grouped_by_client = train.loc[:, ['Cliente_ID', 'Demanda_uni_equil']].groupby('Cliente_ID')\n",
    "grouped_by_client = grouped_by_client.aggregate('sum')\n",
    "grouped_by_client['log_Demanda_uni_equil'] = np.log(grouped_by_client['Demanda_uni_equil'] + 1)\n",
    "grouped_by_client['log_Demanda_uni_equil'].hist(bins = 50)\n",
    "plt.title('Log of the sum of the demand the last 9 weeks')\n",
    "grouped_by_client['rel_store_size'] = np.argsort(grouped_by_client['log_Demanda_uni_equil'].values)/len(grouped_by_client)\n",
    "train = pd.merge(train, grouped_by_client[['rel_store_size']], how = 'left', \n",
    "                left_on = 'Cliente_ID', right_index = True)"
   ]
  },
  {
   "cell_type": "markdown",
   "metadata": {},
   "source": [
    "# Assess Agencia_ID and Route_SAK\n",
    "\n",
    "Are the two a good geo approximation? This really unclear.\n",
    "\n",
    "From the Kaggle forum:\n",
    "\n",
    "<i>Validated - One depot serves multiple routes - One route can be served by multiple depots - One route delivers to multiple retailers - One retailer can be delivered-to by multiple routes\n",
    "\n",
    "To be corroborated - There are depots that specialize in some products or brands - Only some routes deliver products from certain brands</i>\n"
   ]
  },
  {
   "cell_type": "code",
   "execution_count": 123,
   "metadata": {
    "collapsed": false
   },
   "outputs": [
    {
     "name": "stdout",
     "output_type": "stream",
     "text": [
      "Total agencies: 552\n",
      "Number of agencies with only one client: 45\n",
      "Number of agencies with only two clients: 17\n",
      "Number of agencies with only two clients: 1\n"
     ]
    },
    {
     "data": {
      "image/png": "[encoded data removed]",
      "text/plain": [
       "<matplotlib.figure.Figure at 0x11f591d30>"
      ]
     },
     "metadata": {},
     "output_type": "display_data"
    }
   ],
   "source": [
    "agencies = train[['Agencia_ID', 'Cliente_ID']].groupby('Agencia_ID')['Cliente_ID'].nunique()\n",
    "agencies.hist()\n",
    "plt.title('How many clients per agency')\n",
    "print('Total agencies: %i' %len(np.unique(train['Agencia_ID'])))\n",
    "print('Number of agencies with only one client: %i' %sum(agencies==1))\n",
    "print('Number of agencies with only two clients: %i' %sum(agencies==2))\n",
    "print('Number of agencies with only two clients: %i' %sum(agencies==3))"
   ]
  },
  {
   "cell_type": "code",
   "execution_count": 51,
   "metadata": {
    "collapsed": false
   },
   "outputs": [
    {
     "name": "stdout",
     "output_type": "stream",
     "text": [
      "We are checking agency: 1977 \n"
     ]
    },
    {
     "data": {
      "text/html": [
       "<div>\n",
       "<table border=\"1\" class=\"dataframe\">\n",
       "  <thead>\n",
       "    <tr style=\"text-align: right;\">\n",
       "      <th></th>\n",
       "      <th>Semana</th>\n",
       "      <th>Agencia_ID</th>\n",
       "      <th>Canal_ID</th>\n",
       "      <th>Ruta_SAK</th>\n",
       "      <th>Cliente_ID</th>\n",
       "      <th>Producto_ID</th>\n",
       "      <th>Venta_uni_hoy</th>\n",
       "      <th>Venta_hoy</th>\n",
       "      <th>Dev_uni_proxima</th>\n",
       "      <th>Dev_proxima</th>\n",
       "      <th>Demanda_uni_equil</th>\n",
       "      <th>rel_store_size_x</th>\n",
       "      <th>rel_store_size_y</th>\n",
       "    </tr>\n",
       "  </thead>\n",
       "  <tbody>\n",
       "    <tr>\n",
       "      <th>7466509</th>\n",
       "      <td>3</td>\n",
       "      <td>1977</td>\n",
       "      <td>5</td>\n",
       "      <td>3001</td>\n",
       "      <td>653378</td>\n",
       "      <td>1240</td>\n",
       "      <td>149</td>\n",
       "      <td>1655.39</td>\n",
       "      <td>17</td>\n",
       "      <td>188.87</td>\n",
       "      <td>132</td>\n",
       "      <td>759215</td>\n",
       "      <td>0.862153</td>\n",
       "    </tr>\n",
       "    <tr>\n",
       "      <th>7466510</th>\n",
       "      <td>3</td>\n",
       "      <td>1977</td>\n",
       "      <td>5</td>\n",
       "      <td>3001</td>\n",
       "      <td>653378</td>\n",
       "      <td>1250</td>\n",
       "      <td>368</td>\n",
       "      <td>3407.68</td>\n",
       "      <td>29</td>\n",
       "      <td>268.54</td>\n",
       "      <td>339</td>\n",
       "      <td>759215</td>\n",
       "      <td>0.862153</td>\n",
       "    </tr>\n",
       "    <tr>\n",
       "      <th>7466511</th>\n",
       "      <td>3</td>\n",
       "      <td>1977</td>\n",
       "      <td>5</td>\n",
       "      <td>3001</td>\n",
       "      <td>653378</td>\n",
       "      <td>1309</td>\n",
       "      <td>42</td>\n",
       "      <td>388.92</td>\n",
       "      <td>5</td>\n",
       "      <td>46.30</td>\n",
       "      <td>37</td>\n",
       "      <td>759215</td>\n",
       "      <td>0.862153</td>\n",
       "    </tr>\n",
       "    <tr>\n",
       "      <th>7466512</th>\n",
       "      <td>3</td>\n",
       "      <td>1977</td>\n",
       "      <td>5</td>\n",
       "      <td>3001</td>\n",
       "      <td>653378</td>\n",
       "      <td>4280</td>\n",
       "      <td>431</td>\n",
       "      <td>3991.06</td>\n",
       "      <td>144</td>\n",
       "      <td>1333.44</td>\n",
       "      <td>287</td>\n",
       "      <td>759215</td>\n",
       "      <td>0.862153</td>\n",
       "    </tr>\n",
       "    <tr>\n",
       "      <th>7466513</th>\n",
       "      <td>3</td>\n",
       "      <td>1977</td>\n",
       "      <td>5</td>\n",
       "      <td>3001</td>\n",
       "      <td>653378</td>\n",
       "      <td>5200</td>\n",
       "      <td>1249</td>\n",
       "      <td>10766.38</td>\n",
       "      <td>85</td>\n",
       "      <td>732.70</td>\n",
       "      <td>1164</td>\n",
       "      <td>759215</td>\n",
       "      <td>0.862153</td>\n",
       "    </tr>\n",
       "  </tbody>\n",
       "</table>\n",
       "</div>"
      ],
      "text/plain": [
       "         Semana  Agencia_ID  Canal_ID  Ruta_SAK  Cliente_ID  Producto_ID  Venta_uni_hoy  Venta_hoy  Dev_uni_proxima  Dev_proxima  Demanda_uni_equil  rel_store_size_x  rel_store_size_y\n",
       "7466509       3        1977         5      3001      653378         1240            149    1655.39               17       188.87                132            759215          0.862153\n",
       "7466510       3        1977         5      3001      653378         1250            368    3407.68               29       268.54                339            759215          0.862153\n",
       "7466511       3        1977         5      3001      653378         1309             42     388.92                5        46.30                 37            759215          0.862153\n",
       "7466512       3        1977         5      3001      653378         4280            431    3991.06              144      1333.44                287            759215          0.862153\n",
       "7466513       3        1977         5      3001      653378         5200           1249   10766.38               85       732.70               1164            759215          0.862153"
      ]
     },
     "execution_count": 51,
     "metadata": {},
     "output_type": "execute_result"
    }
   ],
   "source": [
    "random_agency_with_1_client = np.random.choice(agencies.loc[agencies == 1].index)\n",
    "print('We are checking agency: %i ' %random_agency_with_1_client)\n",
    "train.loc[train['Agencia_ID'] == random_agency_with_1_client, :].head()"
   ]
  },
  {
   "cell_type": "code",
   "execution_count": 82,
   "metadata": {
    "collapsed": false
   },
   "outputs": [
    {
     "name": "stdout",
     "output_type": "stream",
     "text": [
      "Percent of clients with more than one route: 0.671613\n"
     ]
    },
    {
     "data": {
      "image/png": "[encoded data removed]",
      "text/plain": [
       "<matplotlib.figure.Figure at 0x11e493710>"
      ]
     },
     "metadata": {},
     "output_type": "display_data"
    }
   ],
   "source": [
    "routes_per_client.hist(bins=50)\n",
    "plt.title('Number of routes per client, more than one route is sales depot?')\n",
    "print('Percent of clients with more than one route: %f' %(sum(routes_per_client>1)/len(routes_per_client)))"
   ]
  },
  {
   "cell_type": "markdown",
   "metadata": {},
   "source": [
    "### Lets check client 65  with 3 routes\n",
    "\n",
    "Is this a sales depot?"
   ]
  },
  {
   "cell_type": "code",
   "execution_count": 112,
   "metadata": {
    "collapsed": false
   },
   "outputs": [
    {
     "name": "stdout",
     "output_type": "stream",
     "text": [
      "Unique routes of client 65: [7250 7333 9033]\n",
      "Agency IDs of client 65 = [2061 2655]\n",
      "Unique clients on the routes of client 60: [     65   38525 4221873]\n",
      "Unique agencies on the routes of client 60: [1379 1524 2061 2655]\n"
     ]
    }
   ],
   "source": [
    "#client_65 = train.loc[train['Cliente_ID']==65, :]\n",
    "print('Unique routes of client 65: %s' %str(np.unique(client_65['Ruta_SAK'])))\n",
    "print('Agency IDs of client 65 = %s' %str(np.unique(client_65['Agencia_ID'])))\n",
    "clients_on_routes_of_client_65 = train.loc[train['Ruta_SAK'].isin(np.unique(client_65['Ruta_SAK'])),:]\n",
    "print('Unique clients on the routes of client 60: %s' %str(np.unique(clients_on_routes_of_client_65['Cliente_ID'])))\n",
    "print('Unique agencies on the routes of client 60: %s' %str(np.unique(clients_on_routes_of_client_65['Agencia_ID'])))"
   ]
  },
  {
   "cell_type": "code",
   "execution_count": 104,
   "metadata": {
    "collapsed": false
   },
   "outputs": [
    {
     "name": "stdout",
     "output_type": "stream",
     "text": [
      "Clients on route 7250: [     65 4221873]\n",
      "Clients on route 7333: [65]\n",
      "Clients on route 9033: [   65 38525]\n"
     ]
    }
   ],
   "source": [
    "clients_on_route_7250 = train.loc[train['Ruta_SAK']==7250, :]\n",
    "print('Clients on route 7250: %s' %str(np.unique(clients_on_route_7250['Cliente_ID'])))\n",
    "clients_on_route_7333 = train.loc[train['Ruta_SAK']==7333, :]\n",
    "print('Clients on route 7333: %s' %str(np.unique(clients_on_route_7333['Cliente_ID'])))\n",
    "clients_on_route_9033 = train.loc[train['Ruta_SAK']==9033, :]\n",
    "print('Clients on route 9033: %s' %str(np.unique(clients_on_route_9033['Cliente_ID'])))"
   ]
  },
  {
   "cell_type": "code",
   "execution_count": 110,
   "metadata": {
    "collapsed": false
   },
   "outputs": [
    {
     "name": "stdout",
     "output_type": "stream",
     "text": [
      "Routes client 4221873 [1016 6601 7250]\n",
      "Routes client 38525 [1547 9033]\n"
     ]
    }
   ],
   "source": [
    "routes_client_4221873 = train.loc[train['Cliente_ID']==4221873, :]\n",
    "print('Routes client 4221873 %s' %str(np.unique(routes_client_4221873['Ruta_SAK'])))\n",
    "routes_client_38525 = train.loc[train['Cliente_ID']==38525, :]\n",
    "print('Routes client 38525 %s' %str(np.unique(routes_client_38525['Ruta_SAK'])))"
   ]
  },
  {
   "cell_type": "code",
   "execution_count": 120,
   "metadata": {
    "collapsed": false
   },
   "outputs": [
    {
     "name": "stdout",
     "output_type": "stream",
     "text": [
      "Clients on route 1547 [  38525  146832 1799952 2080101 2128232 2304201 2502307 4387344 5908375\n",
      " 5965911]\n"
     ]
    }
   ],
   "source": [
    "clients_route_1547 = train.loc[train['Ruta_SAK']==1547, :]\n",
    "print('Clients on route 1547 %s' %str(np.unique(clients_route_1547['Cliente_ID'])))"
   ]
  },
  {
   "cell_type": "code",
   "execution_count": 122,
   "metadata": {
    "collapsed": false
   },
   "outputs": [
    {
     "data": {
      "text/plain": [
       "array([1547, 2547, 6002, 6062, 8159, 8843, 9033, 9201, 9289, 9843])"
      ]
     },
     "execution_count": 122,
     "metadata": {},
     "output_type": "execute_result"
    }
   ],
   "source": [
    "np.unique(train.loc[train['Cliente_ID'].isin(np.unique(clients_route_1547['Cliente_ID'])), 'Ruta_SAK'])"
   ]
  },
  {
   "cell_type": "code",
   "execution_count": 118,
   "metadata": {
    "collapsed": false
   },
   "outputs": [
    {
     "data": {
      "text/plain": [
       "array([1524, 1579])"
      ]
     },
     "execution_count": 118,
     "metadata": {},
     "output_type": "execute_result"
    }
   ],
   "source": [
    "agencies_client_38525 = train.loc[train['Cliente_ID']==38525, :]\n",
    "np.unique(agencies_client_38525['Agencia_ID'])"
   ]
  },
  {
   "cell_type": "markdown",
   "metadata": {},
   "source": [
    "### Try out new feature based on agencia id"
   ]
  },
  {
   "cell_type": "code",
   "execution_count": 21,
   "metadata": {
    "collapsed": false
   },
   "outputs": [
    {
     "data": {
      "text/html": [
       "<div>\n",
       "<table border=\"1\" class=\"dataframe\">\n",
       "  <thead>\n",
       "    <tr style=\"text-align: right;\">\n",
       "      <th></th>\n",
       "      <th></th>\n",
       "      <th>Unique_clients</th>\n",
       "      <th>3</th>\n",
       "      <th>4</th>\n",
       "      <th>5</th>\n",
       "      <th>6</th>\n",
       "      <th>7</th>\n",
       "      <th>8</th>\n",
       "      <th>9</th>\n",
       "    </tr>\n",
       "    <tr>\n",
       "      <th>Agencia_ID</th>\n",
       "      <th>Producto_ID</th>\n",
       "      <th></th>\n",
       "      <th></th>\n",
       "      <th></th>\n",
       "      <th></th>\n",
       "      <th></th>\n",
       "      <th></th>\n",
       "      <th></th>\n",
       "      <th></th>\n",
       "    </tr>\n",
       "  </thead>\n",
       "  <tbody>\n",
       "    <tr>\n",
       "      <th rowspan=\"61\" valign=\"top\">2061</th>\n",
       "      <th>1182</th>\n",
       "      <td>42</td>\n",
       "      <td>105.166667</td>\n",
       "      <td>112.111111</td>\n",
       "      <td>109.111111</td>\n",
       "      <td>131.100000</td>\n",
       "      <td>104.357143</td>\n",
       "      <td>96.440000</td>\n",
       "      <td>137.230769</td>\n",
       "    </tr>\n",
       "    <tr>\n",
       "      <th>2665</th>\n",
       "      <td>30</td>\n",
       "      <td>54.200000</td>\n",
       "      <td>56.750000</td>\n",
       "      <td>49.083333</td>\n",
       "      <td>37.357143</td>\n",
       "      <td>68.000000</td>\n",
       "      <td>52.454545</td>\n",
       "      <td>50.384615</td>\n",
       "    </tr>\n",
       "    <tr>\n",
       "      <th>4767</th>\n",
       "      <td>42</td>\n",
       "      <td>55.368421</td>\n",
       "      <td>82.384615</td>\n",
       "      <td>91.272727</td>\n",
       "      <td>103.041667</td>\n",
       "      <td>91.827586</td>\n",
       "      <td>104.037037</td>\n",
       "      <td>90.916667</td>\n",
       "    </tr>\n",
       "    <tr>\n",
       "      <th>30007</th>\n",
       "      <td>13</td>\n",
       "      <td>55.100000</td>\n",
       "      <td>64.000000</td>\n",
       "      <td>100.428571</td>\n",
       "      <td>85.142857</td>\n",
       "      <td>121.800000</td>\n",
       "      <td>102.600000</td>\n",
       "      <td>61.800000</td>\n",
       "    </tr>\n",
       "    <tr>\n",
       "      <th>30235</th>\n",
       "      <td>13</td>\n",
       "      <td>48.000000</td>\n",
       "      <td>123.250000</td>\n",
       "      <td>44.400000</td>\n",
       "      <td>31.000000</td>\n",
       "      <td>90.000000</td>\n",
       "      <td>24.000000</td>\n",
       "      <td>22.000000</td>\n",
       "    </tr>\n",
       "    <tr>\n",
       "      <th>30236</th>\n",
       "      <td>20</td>\n",
       "      <td>100.800000</td>\n",
       "      <td>132.000000</td>\n",
       "      <td>48.833333</td>\n",
       "      <td>28.000000</td>\n",
       "      <td>68.571429</td>\n",
       "      <td>28.600000</td>\n",
       "      <td>33.600000</td>\n",
       "    </tr>\n",
       "    <tr>\n",
       "      <th>30314</th>\n",
       "      <td>30</td>\n",
       "      <td>51.000000</td>\n",
       "      <td>156.000000</td>\n",
       "      <td>123.428571</td>\n",
       "      <td>130.285714</td>\n",
       "      <td>141.941176</td>\n",
       "      <td>113.916667</td>\n",
       "      <td>250.285714</td>\n",
       "    </tr>\n",
       "    <tr>\n",
       "      <th>30423</th>\n",
       "      <td>3</td>\n",
       "      <td>NaN</td>\n",
       "      <td>NaN</td>\n",
       "      <td>NaN</td>\n",
       "      <td>NaN</td>\n",
       "      <td>54.000000</td>\n",
       "      <td>18.000000</td>\n",
       "      <td>24.000000</td>\n",
       "    </tr>\n",
       "    <tr>\n",
       "      <th>30572</th>\n",
       "      <td>16</td>\n",
       "      <td>121.153846</td>\n",
       "      <td>114.111111</td>\n",
       "      <td>87.500000</td>\n",
       "      <td>73.800000</td>\n",
       "      <td>47.000000</td>\n",
       "      <td>NaN</td>\n",
       "      <td>NaN</td>\n",
       "    </tr>\n",
       "    <tr>\n",
       "      <th>30575</th>\n",
       "      <td>15</td>\n",
       "      <td>171.000000</td>\n",
       "      <td>93.333333</td>\n",
       "      <td>78.222222</td>\n",
       "      <td>85.666667</td>\n",
       "      <td>NaN</td>\n",
       "      <td>NaN</td>\n",
       "      <td>NaN</td>\n",
       "    </tr>\n",
       "    <tr>\n",
       "      <th>31184</th>\n",
       "      <td>14</td>\n",
       "      <td>50.666667</td>\n",
       "      <td>177.142857</td>\n",
       "      <td>152.000000</td>\n",
       "      <td>75.600000</td>\n",
       "      <td>79.666667</td>\n",
       "      <td>155.800000</td>\n",
       "      <td>64.000000</td>\n",
       "    </tr>\n",
       "    <tr>\n",
       "      <th>31187</th>\n",
       "      <td>6</td>\n",
       "      <td>536.000000</td>\n",
       "      <td>525.000000</td>\n",
       "      <td>160.000000</td>\n",
       "      <td>NaN</td>\n",
       "      <td>NaN</td>\n",
       "      <td>NaN</td>\n",
       "      <td>NaN</td>\n",
       "    </tr>\n",
       "    <tr>\n",
       "      <th>31194</th>\n",
       "      <td>2</td>\n",
       "      <td>12.000000</td>\n",
       "      <td>NaN</td>\n",
       "      <td>NaN</td>\n",
       "      <td>26.000000</td>\n",
       "      <td>NaN</td>\n",
       "      <td>NaN</td>\n",
       "      <td>128.000000</td>\n",
       "    </tr>\n",
       "    <tr>\n",
       "      <th>31198</th>\n",
       "      <td>11</td>\n",
       "      <td>56.000000</td>\n",
       "      <td>96.000000</td>\n",
       "      <td>140.000000</td>\n",
       "      <td>140.000000</td>\n",
       "      <td>67.200000</td>\n",
       "      <td>28.000000</td>\n",
       "      <td>42.000000</td>\n",
       "    </tr>\n",
       "    <tr>\n",
       "      <th>31310</th>\n",
       "      <td>10</td>\n",
       "      <td>44.000000</td>\n",
       "      <td>32.000000</td>\n",
       "      <td>54.666667</td>\n",
       "      <td>48.500000</td>\n",
       "      <td>49.500000</td>\n",
       "      <td>44.000000</td>\n",
       "      <td>31.750000</td>\n",
       "    </tr>\n",
       "    <tr>\n",
       "      <th>31393</th>\n",
       "      <td>58</td>\n",
       "      <td>37.517857</td>\n",
       "      <td>40.418182</td>\n",
       "      <td>35.228070</td>\n",
       "      <td>38.200000</td>\n",
       "      <td>37.886792</td>\n",
       "      <td>38.611111</td>\n",
       "      <td>38.254545</td>\n",
       "    </tr>\n",
       "    <tr>\n",
       "      <th>31467</th>\n",
       "      <td>17</td>\n",
       "      <td>43.428571</td>\n",
       "      <td>63.833333</td>\n",
       "      <td>28.000000</td>\n",
       "      <td>42.666667</td>\n",
       "      <td>41.400000</td>\n",
       "      <td>38.666667</td>\n",
       "      <td>52.000000</td>\n",
       "    </tr>\n",
       "    <tr>\n",
       "      <th>31471</th>\n",
       "      <td>14</td>\n",
       "      <td>52.000000</td>\n",
       "      <td>87.750000</td>\n",
       "      <td>32.000000</td>\n",
       "      <td>42.333333</td>\n",
       "      <td>28.800000</td>\n",
       "      <td>33.777778</td>\n",
       "      <td>41.600000</td>\n",
       "    </tr>\n",
       "    <tr>\n",
       "      <th>31473</th>\n",
       "      <td>3</td>\n",
       "      <td>240.000000</td>\n",
       "      <td>144.000000</td>\n",
       "      <td>156.000000</td>\n",
       "      <td>NaN</td>\n",
       "      <td>72.000000</td>\n",
       "      <td>84.000000</td>\n",
       "      <td>120.000000</td>\n",
       "    </tr>\n",
       "    <tr>\n",
       "      <th>31485</th>\n",
       "      <td>1</td>\n",
       "      <td>17.000000</td>\n",
       "      <td>NaN</td>\n",
       "      <td>NaN</td>\n",
       "      <td>NaN</td>\n",
       "      <td>NaN</td>\n",
       "      <td>NaN</td>\n",
       "      <td>NaN</td>\n",
       "    </tr>\n",
       "    <tr>\n",
       "      <th>31498</th>\n",
       "      <td>15</td>\n",
       "      <td>10.625000</td>\n",
       "      <td>17.583333</td>\n",
       "      <td>17.000000</td>\n",
       "      <td>23.076923</td>\n",
       "      <td>27.200000</td>\n",
       "      <td>16.800000</td>\n",
       "      <td>42.500000</td>\n",
       "    </tr>\n",
       "    <tr>\n",
       "      <th>31500</th>\n",
       "      <td>23</td>\n",
       "      <td>12.666667</td>\n",
       "      <td>20.950000</td>\n",
       "      <td>14.923077</td>\n",
       "      <td>19.928571</td>\n",
       "      <td>20.000000</td>\n",
       "      <td>16.315789</td>\n",
       "      <td>25.894737</td>\n",
       "    </tr>\n",
       "    <tr>\n",
       "      <th>31507</th>\n",
       "      <td>5</td>\n",
       "      <td>NaN</td>\n",
       "      <td>35.000000</td>\n",
       "      <td>52.500000</td>\n",
       "      <td>35.000000</td>\n",
       "      <td>NaN</td>\n",
       "      <td>35.000000</td>\n",
       "      <td>NaN</td>\n",
       "    </tr>\n",
       "    <tr>\n",
       "      <th>31512</th>\n",
       "      <td>20</td>\n",
       "      <td>19.600000</td>\n",
       "      <td>64.833333</td>\n",
       "      <td>28.000000</td>\n",
       "      <td>33.200000</td>\n",
       "      <td>33.857143</td>\n",
       "      <td>37.750000</td>\n",
       "      <td>55.000000</td>\n",
       "    </tr>\n",
       "    <tr>\n",
       "      <th>31514</th>\n",
       "      <td>10</td>\n",
       "      <td>62.750000</td>\n",
       "      <td>42.750000</td>\n",
       "      <td>21.000000</td>\n",
       "      <td>18.666667</td>\n",
       "      <td>32.666667</td>\n",
       "      <td>23.333333</td>\n",
       "      <td>23.333333</td>\n",
       "    </tr>\n",
       "    <tr>\n",
       "      <th>31520</th>\n",
       "      <td>10</td>\n",
       "      <td>30.000000</td>\n",
       "      <td>20.000000</td>\n",
       "      <td>NaN</td>\n",
       "      <td>20.000000</td>\n",
       "      <td>20.000000</td>\n",
       "      <td>30.000000</td>\n",
       "      <td>40.000000</td>\n",
       "    </tr>\n",
       "    <tr>\n",
       "      <th>31575</th>\n",
       "      <td>1</td>\n",
       "      <td>NaN</td>\n",
       "      <td>NaN</td>\n",
       "      <td>NaN</td>\n",
       "      <td>NaN</td>\n",
       "      <td>NaN</td>\n",
       "      <td>30.000000</td>\n",
       "      <td>NaN</td>\n",
       "    </tr>\n",
       "    <tr>\n",
       "      <th>31580</th>\n",
       "      <td>2</td>\n",
       "      <td>NaN</td>\n",
       "      <td>29.000000</td>\n",
       "      <td>NaN</td>\n",
       "      <td>NaN</td>\n",
       "      <td>NaN</td>\n",
       "      <td>NaN</td>\n",
       "      <td>20.000000</td>\n",
       "    </tr>\n",
       "    <tr>\n",
       "      <th>31584</th>\n",
       "      <td>3</td>\n",
       "      <td>20.000000</td>\n",
       "      <td>20.000000</td>\n",
       "      <td>NaN</td>\n",
       "      <td>NaN</td>\n",
       "      <td>NaN</td>\n",
       "      <td>30.000000</td>\n",
       "      <td>20.000000</td>\n",
       "    </tr>\n",
       "    <tr>\n",
       "      <th>31588</th>\n",
       "      <td>3</td>\n",
       "      <td>NaN</td>\n",
       "      <td>20.000000</td>\n",
       "      <td>NaN</td>\n",
       "      <td>NaN</td>\n",
       "      <td>NaN</td>\n",
       "      <td>40.000000</td>\n",
       "      <td>20.000000</td>\n",
       "    </tr>\n",
       "    <tr>\n",
       "      <th>...</th>\n",
       "      <td>...</td>\n",
       "      <td>...</td>\n",
       "      <td>...</td>\n",
       "      <td>...</td>\n",
       "      <td>...</td>\n",
       "      <td>...</td>\n",
       "      <td>...</td>\n",
       "      <td>...</td>\n",
       "    </tr>\n",
       "    <tr>\n",
       "      <th>43342</th>\n",
       "      <td>56</td>\n",
       "      <td>19.326531</td>\n",
       "      <td>23.460000</td>\n",
       "      <td>24.234043</td>\n",
       "      <td>22.744681</td>\n",
       "      <td>21.306122</td>\n",
       "      <td>22.058824</td>\n",
       "      <td>23.320000</td>\n",
       "    </tr>\n",
       "    <tr>\n",
       "      <th>43343</th>\n",
       "      <td>51</td>\n",
       "      <td>8.750000</td>\n",
       "      <td>10.923077</td>\n",
       "      <td>10.526316</td>\n",
       "      <td>11.500000</td>\n",
       "      <td>9.285714</td>\n",
       "      <td>9.428571</td>\n",
       "      <td>11.500000</td>\n",
       "    </tr>\n",
       "    <tr>\n",
       "      <th>43344</th>\n",
       "      <td>53</td>\n",
       "      <td>23.047619</td>\n",
       "      <td>23.139535</td>\n",
       "      <td>21.560976</td>\n",
       "      <td>25.380952</td>\n",
       "      <td>21.382979</td>\n",
       "      <td>20.333333</td>\n",
       "      <td>21.609756</td>\n",
       "    </tr>\n",
       "    <tr>\n",
       "      <th>43345</th>\n",
       "      <td>19</td>\n",
       "      <td>52.944444</td>\n",
       "      <td>44.055556</td>\n",
       "      <td>53.444444</td>\n",
       "      <td>47.315789</td>\n",
       "      <td>50.444444</td>\n",
       "      <td>55.500000</td>\n",
       "      <td>54.058824</td>\n",
       "    </tr>\n",
       "    <tr>\n",
       "      <th>43346</th>\n",
       "      <td>1</td>\n",
       "      <td>4.000000</td>\n",
       "      <td>2.000000</td>\n",
       "      <td>10.000000</td>\n",
       "      <td>4.000000</td>\n",
       "      <td>4.000000</td>\n",
       "      <td>10.000000</td>\n",
       "      <td>3.000000</td>\n",
       "    </tr>\n",
       "    <tr>\n",
       "      <th>43348</th>\n",
       "      <td>4</td>\n",
       "      <td>169.250000</td>\n",
       "      <td>175.500000</td>\n",
       "      <td>183.000000</td>\n",
       "      <td>158.750000</td>\n",
       "      <td>161.750000</td>\n",
       "      <td>167.750000</td>\n",
       "      <td>184.500000</td>\n",
       "    </tr>\n",
       "    <tr>\n",
       "      <th>43360</th>\n",
       "      <td>2</td>\n",
       "      <td>59.000000</td>\n",
       "      <td>47.500000</td>\n",
       "      <td>60.000000</td>\n",
       "      <td>45.000000</td>\n",
       "      <td>29.000000</td>\n",
       "      <td>69.000000</td>\n",
       "      <td>38.000000</td>\n",
       "    </tr>\n",
       "    <tr>\n",
       "      <th>43361</th>\n",
       "      <td>2</td>\n",
       "      <td>57.000000</td>\n",
       "      <td>58.000000</td>\n",
       "      <td>68.000000</td>\n",
       "      <td>57.000000</td>\n",
       "      <td>52.000000</td>\n",
       "      <td>54.500000</td>\n",
       "      <td>77.000000</td>\n",
       "    </tr>\n",
       "    <tr>\n",
       "      <th>43364</th>\n",
       "      <td>3</td>\n",
       "      <td>78.333333</td>\n",
       "      <td>75.333333</td>\n",
       "      <td>86.666667</td>\n",
       "      <td>85.333333</td>\n",
       "      <td>86.666667</td>\n",
       "      <td>74.666667</td>\n",
       "      <td>97.333333</td>\n",
       "    </tr>\n",
       "    <tr>\n",
       "      <th>43373</th>\n",
       "      <td>1</td>\n",
       "      <td>8.000000</td>\n",
       "      <td>4.000000</td>\n",
       "      <td>6.000000</td>\n",
       "      <td>6.000000</td>\n",
       "      <td>12.000000</td>\n",
       "      <td>12.000000</td>\n",
       "      <td>7.000000</td>\n",
       "    </tr>\n",
       "    <tr>\n",
       "      <th>43377</th>\n",
       "      <td>30</td>\n",
       "      <td>27.600000</td>\n",
       "      <td>71.333333</td>\n",
       "      <td>57.153846</td>\n",
       "      <td>124.375000</td>\n",
       "      <td>52.800000</td>\n",
       "      <td>43.578947</td>\n",
       "      <td>56.157895</td>\n",
       "    </tr>\n",
       "    <tr>\n",
       "      <th>43380</th>\n",
       "      <td>2</td>\n",
       "      <td>46.000000</td>\n",
       "      <td>52.000000</td>\n",
       "      <td>42.500000</td>\n",
       "      <td>39.000000</td>\n",
       "      <td>32.000000</td>\n",
       "      <td>33.000000</td>\n",
       "      <td>48.000000</td>\n",
       "    </tr>\n",
       "    <tr>\n",
       "      <th>43388</th>\n",
       "      <td>40</td>\n",
       "      <td>19.342105</td>\n",
       "      <td>20.264706</td>\n",
       "      <td>15.851852</td>\n",
       "      <td>15.045455</td>\n",
       "      <td>18.333333</td>\n",
       "      <td>18.500000</td>\n",
       "      <td>18.842105</td>\n",
       "    </tr>\n",
       "    <tr>\n",
       "      <th>43394</th>\n",
       "      <td>1</td>\n",
       "      <td>37.000000</td>\n",
       "      <td>48.000000</td>\n",
       "      <td>48.000000</td>\n",
       "      <td>40.000000</td>\n",
       "      <td>40.000000</td>\n",
       "      <td>34.000000</td>\n",
       "      <td>52.000000</td>\n",
       "    </tr>\n",
       "    <tr>\n",
       "      <th>44088</th>\n",
       "      <td>16</td>\n",
       "      <td>8.666667</td>\n",
       "      <td>11.000000</td>\n",
       "      <td>6.625000</td>\n",
       "      <td>8.571429</td>\n",
       "      <td>8.400000</td>\n",
       "      <td>6.250000</td>\n",
       "      <td>3.000000</td>\n",
       "    </tr>\n",
       "    <tr>\n",
       "      <th>44371</th>\n",
       "      <td>39</td>\n",
       "      <td>26.965517</td>\n",
       "      <td>30.240000</td>\n",
       "      <td>28.652174</td>\n",
       "      <td>26.727273</td>\n",
       "      <td>26.000000</td>\n",
       "      <td>31.666667</td>\n",
       "      <td>28.523810</td>\n",
       "    </tr>\n",
       "    <tr>\n",
       "      <th>45527</th>\n",
       "      <td>9</td>\n",
       "      <td>14.428571</td>\n",
       "      <td>13.800000</td>\n",
       "      <td>9.250000</td>\n",
       "      <td>12.000000</td>\n",
       "      <td>8.000000</td>\n",
       "      <td>10.000000</td>\n",
       "      <td>11.600000</td>\n",
       "    </tr>\n",
       "    <tr>\n",
       "      <th>45567</th>\n",
       "      <td>11</td>\n",
       "      <td>37.363636</td>\n",
       "      <td>49.636364</td>\n",
       "      <td>42.818182</td>\n",
       "      <td>40.727273</td>\n",
       "      <td>45.909091</td>\n",
       "      <td>42.000000</td>\n",
       "      <td>41.400000</td>\n",
       "    </tr>\n",
       "    <tr>\n",
       "      <th>46876</th>\n",
       "      <td>54</td>\n",
       "      <td>116.589744</td>\n",
       "      <td>115.157895</td>\n",
       "      <td>106.800000</td>\n",
       "      <td>121.048780</td>\n",
       "      <td>118.513514</td>\n",
       "      <td>116.857143</td>\n",
       "      <td>141.685714</td>\n",
       "    </tr>\n",
       "    <tr>\n",
       "      <th>46962</th>\n",
       "      <td>4</td>\n",
       "      <td>12.000000</td>\n",
       "      <td>12.000000</td>\n",
       "      <td>12.000000</td>\n",
       "      <td>24.000000</td>\n",
       "      <td>18.000000</td>\n",
       "      <td>12.000000</td>\n",
       "      <td>24.000000</td>\n",
       "    </tr>\n",
       "    <tr>\n",
       "      <th>47068</th>\n",
       "      <td>14</td>\n",
       "      <td>41.769231</td>\n",
       "      <td>36.857143</td>\n",
       "      <td>44.857143</td>\n",
       "      <td>47.142857</td>\n",
       "      <td>44.142857</td>\n",
       "      <td>36.416667</td>\n",
       "      <td>43.090909</td>\n",
       "    </tr>\n",
       "    <tr>\n",
       "      <th>47886</th>\n",
       "      <td>30</td>\n",
       "      <td>13.923077</td>\n",
       "      <td>15.000000</td>\n",
       "      <td>21.666667</td>\n",
       "      <td>18.250000</td>\n",
       "      <td>21.375000</td>\n",
       "      <td>22.000000</td>\n",
       "      <td>16.833333</td>\n",
       "    </tr>\n",
       "    <tr>\n",
       "      <th>48345</th>\n",
       "      <td>26</td>\n",
       "      <td>53.000000</td>\n",
       "      <td>54.640000</td>\n",
       "      <td>48.000000</td>\n",
       "      <td>55.840000</td>\n",
       "      <td>50.920000</td>\n",
       "      <td>53.791667</td>\n",
       "      <td>59.840000</td>\n",
       "    </tr>\n",
       "    <tr>\n",
       "      <th>48689</th>\n",
       "      <td>10</td>\n",
       "      <td>17.800000</td>\n",
       "      <td>34.428571</td>\n",
       "      <td>31.222222</td>\n",
       "      <td>28.750000</td>\n",
       "      <td>33.500000</td>\n",
       "      <td>27.000000</td>\n",
       "      <td>20.111111</td>\n",
       "    </tr>\n",
       "    <tr>\n",
       "      <th>48925</th>\n",
       "      <td>3</td>\n",
       "      <td>12.000000</td>\n",
       "      <td>8.000000</td>\n",
       "      <td>8.000000</td>\n",
       "      <td>16.000000</td>\n",
       "      <td>NaN</td>\n",
       "      <td>NaN</td>\n",
       "      <td>16.000000</td>\n",
       "    </tr>\n",
       "    <tr>\n",
       "      <th>48996</th>\n",
       "      <td>58</td>\n",
       "      <td>147.212766</td>\n",
       "      <td>162.518519</td>\n",
       "      <td>146.607143</td>\n",
       "      <td>147.107143</td>\n",
       "      <td>135.618182</td>\n",
       "      <td>133.192982</td>\n",
       "      <td>130.092593</td>\n",
       "    </tr>\n",
       "    <tr>\n",
       "      <th>49028</th>\n",
       "      <td>57</td>\n",
       "      <td>194.740000</td>\n",
       "      <td>217.019231</td>\n",
       "      <td>196.370370</td>\n",
       "      <td>211.877193</td>\n",
       "      <td>177.584906</td>\n",
       "      <td>189.173077</td>\n",
       "      <td>181.886792</td>\n",
       "    </tr>\n",
       "    <tr>\n",
       "      <th>49860</th>\n",
       "      <td>12</td>\n",
       "      <td>10.800000</td>\n",
       "      <td>9.500000</td>\n",
       "      <td>13.857143</td>\n",
       "      <td>21.000000</td>\n",
       "      <td>12.714286</td>\n",
       "      <td>19.500000</td>\n",
       "      <td>10.666667</td>\n",
       "    </tr>\n",
       "    <tr>\n",
       "      <th>49988</th>\n",
       "      <td>6</td>\n",
       "      <td>14.750000</td>\n",
       "      <td>14.200000</td>\n",
       "      <td>24.250000</td>\n",
       "      <td>19.000000</td>\n",
       "      <td>18.333333</td>\n",
       "      <td>17.500000</td>\n",
       "      <td>22.500000</td>\n",
       "    </tr>\n",
       "    <tr>\n",
       "      <th>49992</th>\n",
       "      <td>4</td>\n",
       "      <td>14.333333</td>\n",
       "      <td>15.000000</td>\n",
       "      <td>11.000000</td>\n",
       "      <td>34.666667</td>\n",
       "      <td>21.500000</td>\n",
       "      <td>21.000000</td>\n",
       "      <td>16.666667</td>\n",
       "    </tr>\n",
       "  </tbody>\n",
       "</table>\n",
       "<p>180 rows × 8 columns</p>\n",
       "</div>"
      ],
      "text/plain": [
       "                        Unique_clients           3           4           5           6           7           8           9\n",
       "Agencia_ID Producto_ID                                                                                                    \n",
       "2061       1182                     42  105.166667  112.111111  109.111111  131.100000  104.357143   96.440000  137.230769\n",
       "           2665                     30   54.200000   56.750000   49.083333   37.357143   68.000000   52.454545   50.384615\n",
       "           4767                     42   55.368421   82.384615   91.272727  103.041667   91.827586  104.037037   90.916667\n",
       "           30007                    13   55.100000   64.000000  100.428571   85.142857  121.800000  102.600000   61.800000\n",
       "           30235                    13   48.000000  123.250000   44.400000   31.000000   90.000000   24.000000   22.000000\n",
       "           30236                    20  100.800000  132.000000   48.833333   28.000000   68.571429   28.600000   33.600000\n",
       "           30314                    30   51.000000  156.000000  123.428571  130.285714  141.941176  113.916667  250.285714\n",
       "           30423                     3         NaN         NaN         NaN         NaN   54.000000   18.000000   24.000000\n",
       "           30572                    16  121.153846  114.111111   87.500000   73.800000   47.000000         NaN         NaN\n",
       "           30575                    15  171.000000   93.333333   78.222222   85.666667         NaN         NaN         NaN\n",
       "           31184                    14   50.666667  177.142857  152.000000   75.600000   79.666667  155.800000   64.000000\n",
       "           31187                     6  536.000000  525.000000  160.000000         NaN         NaN         NaN         NaN\n",
       "           31194                     2   12.000000         NaN         NaN   26.000000         NaN         NaN  128.000000\n",
       "           31198                    11   56.000000   96.000000  140.000000  140.000000   67.200000   28.000000   42.000000\n",
       "           31310                    10   44.000000   32.000000   54.666667   48.500000   49.500000   44.000000   31.750000\n",
       "           31393                    58   37.517857   40.418182   35.228070   38.200000   37.886792   38.611111   38.254545\n",
       "           31467                    17   43.428571   63.833333   28.000000   42.666667   41.400000   38.666667   52.000000\n",
       "           31471                    14   52.000000   87.750000   32.000000   42.333333   28.800000   33.777778   41.600000\n",
       "           31473                     3  240.000000  144.000000  156.000000         NaN   72.000000   84.000000  120.000000\n",
       "           31485                     1   17.000000         NaN         NaN         NaN         NaN         NaN         NaN\n",
       "           31498                    15   10.625000   17.583333   17.000000   23.076923   27.200000   16.800000   42.500000\n",
       "           31500                    23   12.666667   20.950000   14.923077   19.928571   20.000000   16.315789   25.894737\n",
       "           31507                     5         NaN   35.000000   52.500000   35.000000         NaN   35.000000         NaN\n",
       "           31512                    20   19.600000   64.833333   28.000000   33.200000   33.857143   37.750000   55.000000\n",
       "           31514                    10   62.750000   42.750000   21.000000   18.666667   32.666667   23.333333   23.333333\n",
       "           31520                    10   30.000000   20.000000         NaN   20.000000   20.000000   30.000000   40.000000\n",
       "           31575                     1         NaN         NaN         NaN         NaN         NaN   30.000000         NaN\n",
       "           31580                     2         NaN   29.000000         NaN         NaN         NaN         NaN   20.000000\n",
       "           31584                     3   20.000000   20.000000         NaN         NaN         NaN   30.000000   20.000000\n",
       "           31588                     3         NaN   20.000000         NaN         NaN         NaN   40.000000   20.000000\n",
       "...                                ...         ...         ...         ...         ...         ...         ...         ...\n",
       "           43342                    56   19.326531   23.460000   24.234043   22.744681   21.306122   22.058824   23.320000\n",
       "           43343                    51    8.750000   10.923077   10.526316   11.500000    9.285714    9.428571   11.500000\n",
       "           43344                    53   23.047619   23.139535   21.560976   25.380952   21.382979   20.333333   21.609756\n",
       "           43345                    19   52.944444   44.055556   53.444444   47.315789   50.444444   55.500000   54.058824\n",
       "           43346                     1    4.000000    2.000000   10.000000    4.000000    4.000000   10.000000    3.000000\n",
       "           43348                     4  169.250000  175.500000  183.000000  158.750000  161.750000  167.750000  184.500000\n",
       "           43360                     2   59.000000   47.500000   60.000000   45.000000   29.000000   69.000000   38.000000\n",
       "           43361                     2   57.000000   58.000000   68.000000   57.000000   52.000000   54.500000   77.000000\n",
       "           43364                     3   78.333333   75.333333   86.666667   85.333333   86.666667   74.666667   97.333333\n",
       "           43373                     1    8.000000    4.000000    6.000000    6.000000   12.000000   12.000000    7.000000\n",
       "           43377                    30   27.600000   71.333333   57.153846  124.375000   52.800000   43.578947   56.157895\n",
       "           43380                     2   46.000000   52.000000   42.500000   39.000000   32.000000   33.000000   48.000000\n",
       "           43388                    40   19.342105   20.264706   15.851852   15.045455   18.333333   18.500000   18.842105\n",
       "           43394                     1   37.000000   48.000000   48.000000   40.000000   40.000000   34.000000   52.000000\n",
       "           44088                    16    8.666667   11.000000    6.625000    8.571429    8.400000    6.250000    3.000000\n",
       "           44371                    39   26.965517   30.240000   28.652174   26.727273   26.000000   31.666667   28.523810\n",
       "           45527                     9   14.428571   13.800000    9.250000   12.000000    8.000000   10.000000   11.600000\n",
       "           45567                    11   37.363636   49.636364   42.818182   40.727273   45.909091   42.000000   41.400000\n",
       "           46876                    54  116.589744  115.157895  106.800000  121.048780  118.513514  116.857143  141.685714\n",
       "           46962                     4   12.000000   12.000000   12.000000   24.000000   18.000000   12.000000   24.000000\n",
       "           47068                    14   41.769231   36.857143   44.857143   47.142857   44.142857   36.416667   43.090909\n",
       "           47886                    30   13.923077   15.000000   21.666667   18.250000   21.375000   22.000000   16.833333\n",
       "           48345                    26   53.000000   54.640000   48.000000   55.840000   50.920000   53.791667   59.840000\n",
       "           48689                    10   17.800000   34.428571   31.222222   28.750000   33.500000   27.000000   20.111111\n",
       "           48925                     3   12.000000    8.000000    8.000000   16.000000         NaN         NaN   16.000000\n",
       "           48996                    58  147.212766  162.518519  146.607143  147.107143  135.618182  133.192982  130.092593\n",
       "           49028                    57  194.740000  217.019231  196.370370  211.877193  177.584906  189.173077  181.886792\n",
       "           49860                    12   10.800000    9.500000   13.857143   21.000000   12.714286   19.500000   10.666667\n",
       "           49988                     6   14.750000   14.200000   24.250000   19.000000   18.333333   17.500000   22.500000\n",
       "           49992                     4   14.333333   15.000000   11.000000   34.666667   21.500000   21.000000   16.666667\n",
       "\n",
       "[180 rows x 8 columns]"
      ]
     },
     "execution_count": 21,
     "metadata": {},
     "output_type": "execute_result"
    }
   ],
   "source": [
    "one_agency = train.loc[train['Agencia_ID']==2061, :]\n",
    "grouped_by_agencia_ID = one_agency.groupby(['Agencia_ID', 'Producto_ID'])\n",
    "unique_clients = grouped_by_agencia_ID['Cliente_ID'].nunique()\n",
    "unique_clients = pd.DataFrame(unique_clients)\n",
    "unique_clients = unique_clients.rename(columns = { 'Cliente_ID': 'Unique_clients'})\n",
    "one_agency_pivot = pd.pivot_table(data = one_agency, values = 'Demanda_uni_equil', \n",
    "                                  index = ['Agencia_ID', 'Producto_ID'], columns = 'Semana')\n",
    "pd.merge(unique_clients, one_agency_pivot, left_index = True, right_index = True, how='left')"
   ]
  },
  {
   "cell_type": "code",
   "execution_count": 28,
   "metadata": {
    "collapsed": false
   },
   "outputs": [
    {
     "data": {
      "text/html": [
       "<div>\n",
       "<table border=\"1\" class=\"dataframe\">\n",
       "  <thead>\n",
       "    <tr style=\"text-align: right;\">\n",
       "      <th></th>\n",
       "      <th>Unique_clients</th>\n",
       "      <th>3</th>\n",
       "      <th>4</th>\n",
       "      <th>5</th>\n",
       "      <th>6</th>\n",
       "      <th>7</th>\n",
       "      <th>8</th>\n",
       "      <th>9</th>\n",
       "    </tr>\n",
       "    <tr>\n",
       "      <th>Ruta_SAK</th>\n",
       "      <th></th>\n",
       "      <th></th>\n",
       "      <th></th>\n",
       "      <th></th>\n",
       "      <th></th>\n",
       "      <th></th>\n",
       "      <th></th>\n",
       "      <th></th>\n",
       "    </tr>\n",
       "  </thead>\n",
       "  <tbody>\n",
       "    <tr>\n",
       "      <th>91</th>\n",
       "      <td>4</td>\n",
       "      <td>79.793651</td>\n",
       "      <td>85.437247</td>\n",
       "      <td>83.639216</td>\n",
       "      <td>83.431452</td>\n",
       "      <td>81.211155</td>\n",
       "      <td>85.074803</td>\n",
       "      <td>81.361789</td>\n",
       "    </tr>\n",
       "    <tr>\n",
       "      <th>1052</th>\n",
       "      <td>4065</td>\n",
       "      <td>5.765351</td>\n",
       "      <td>5.635157</td>\n",
       "      <td>5.363978</td>\n",
       "      <td>5.169007</td>\n",
       "      <td>5.466312</td>\n",
       "      <td>5.614149</td>\n",
       "      <td>5.601327</td>\n",
       "    </tr>\n",
       "    <tr>\n",
       "      <th>1067</th>\n",
       "      <td>1720</td>\n",
       "      <td>5.226399</td>\n",
       "      <td>5.015817</td>\n",
       "      <td>4.608864</td>\n",
       "      <td>4.508566</td>\n",
       "      <td>4.744584</td>\n",
       "      <td>4.812890</td>\n",
       "      <td>4.925622</td>\n",
       "    </tr>\n",
       "    <tr>\n",
       "      <th>1097</th>\n",
       "      <td>75</td>\n",
       "      <td>5.626741</td>\n",
       "      <td>5.675141</td>\n",
       "      <td>5.141994</td>\n",
       "      <td>5.246835</td>\n",
       "      <td>5.318841</td>\n",
       "      <td>5.773639</td>\n",
       "      <td>5.566396</td>\n",
       "    </tr>\n",
       "    <tr>\n",
       "      <th>1242</th>\n",
       "      <td>2967</td>\n",
       "      <td>3.984914</td>\n",
       "      <td>4.181018</td>\n",
       "      <td>4.385862</td>\n",
       "      <td>4.489966</td>\n",
       "      <td>4.504219</td>\n",
       "      <td>4.453067</td>\n",
       "      <td>4.298908</td>\n",
       "    </tr>\n",
       "    <tr>\n",
       "      <th>1260</th>\n",
       "      <td>3628</td>\n",
       "      <td>4.412841</td>\n",
       "      <td>4.747048</td>\n",
       "      <td>5.016126</td>\n",
       "      <td>5.179942</td>\n",
       "      <td>4.998256</td>\n",
       "      <td>5.070878</td>\n",
       "      <td>4.770703</td>\n",
       "    </tr>\n",
       "    <tr>\n",
       "      <th>2628</th>\n",
       "      <td>1</td>\n",
       "      <td>NaN</td>\n",
       "      <td>NaN</td>\n",
       "      <td>NaN</td>\n",
       "      <td>70.000000</td>\n",
       "      <td>NaN</td>\n",
       "      <td>NaN</td>\n",
       "      <td>NaN</td>\n",
       "    </tr>\n",
       "    <tr>\n",
       "      <th>2865</th>\n",
       "      <td>1678</td>\n",
       "      <td>4.912074</td>\n",
       "      <td>5.106661</td>\n",
       "      <td>4.879664</td>\n",
       "      <td>4.833214</td>\n",
       "      <td>4.823738</td>\n",
       "      <td>4.980804</td>\n",
       "      <td>4.869066</td>\n",
       "    </tr>\n",
       "    <tr>\n",
       "      <th>8220</th>\n",
       "      <td>1</td>\n",
       "      <td>NaN</td>\n",
       "      <td>NaN</td>\n",
       "      <td>108.000000</td>\n",
       "      <td>NaN</td>\n",
       "      <td>NaN</td>\n",
       "      <td>NaN</td>\n",
       "      <td>NaN</td>\n",
       "    </tr>\n",
       "    <tr>\n",
       "      <th>9704</th>\n",
       "      <td>1</td>\n",
       "      <td>12.000000</td>\n",
       "      <td>NaN</td>\n",
       "      <td>NaN</td>\n",
       "      <td>NaN</td>\n",
       "      <td>NaN</td>\n",
       "      <td>NaN</td>\n",
       "      <td>NaN</td>\n",
       "    </tr>\n",
       "  </tbody>\n",
       "</table>\n",
       "</div>"
      ],
      "text/plain": [
       "          Unique_clients          3          4           5          6          7          8          9\n",
       "Ruta_SAK                                                                                              \n",
       "91                     4  79.793651  85.437247   83.639216  83.431452  81.211155  85.074803  81.361789\n",
       "1052                4065   5.765351   5.635157    5.363978   5.169007   5.466312   5.614149   5.601327\n",
       "1067                1720   5.226399   5.015817    4.608864   4.508566   4.744584   4.812890   4.925622\n",
       "1097                  75   5.626741   5.675141    5.141994   5.246835   5.318841   5.773639   5.566396\n",
       "1242                2967   3.984914   4.181018    4.385862   4.489966   4.504219   4.453067   4.298908\n",
       "1260                3628   4.412841   4.747048    5.016126   5.179942   4.998256   5.070878   4.770703\n",
       "2628                   1        NaN        NaN         NaN  70.000000        NaN        NaN        NaN\n",
       "2865                1678   4.912074   5.106661    4.879664   4.833214   4.823738   4.980804   4.869066\n",
       "8220                   1        NaN        NaN  108.000000        NaN        NaN        NaN        NaN\n",
       "9704                   1  12.000000        NaN         NaN        NaN        NaN        NaN        NaN"
      ]
     },
     "execution_count": 28,
     "metadata": {},
     "output_type": "execute_result"
    }
   ],
   "source": [
    "ten_routes = np.random.choice(np.unique(train['Ruta_SAK']), 10)\n",
    "ten_routes = train.loc[train['Ruta_SAK'].isin(ten_routes), :]\n",
    "grouped_by_ruta_SAK = ten_routes.groupby(['Ruta_SAK'])\n",
    "unique_clients = grouped_by_ruta_SAK['Cliente_ID'].nunique()\n",
    "unique_clients = pd.DataFrame(unique_clients)\n",
    "unique_clients = unique_clients.rename(columns = { 'Cliente_ID': 'Unique_clients'})\n",
    "ten_routes_pivot = pd.pivot_table(data = ten_routes, values = 'Demanda_uni_equil', \n",
    "                                  index = ['Ruta_SAK'], columns = 'Semana', aggfunc='mean')\n",
    "pd.merge(unique_clients, ten_routes_pivot, left_index = True, right_index = True, how='left')"
   ]
  },
  {
   "cell_type": "code",
   "execution_count": 29,
   "metadata": {
    "collapsed": false
   },
   "outputs": [
    {
     "data": {
      "text/plain": [
       "4"
      ]
     },
     "execution_count": 29,
     "metadata": {},
     "output_type": "execute_result"
    }
   ],
   "source": [
    "def most_common(lst):\n",
    "    return max(set(lst), key=lst.count)\n",
    "most_common([5,6,7,7,5,4,3,7,8,9,6,4,3,4,5,6])"
   ]
  },
  {
   "cell_type": "markdown",
   "metadata": {},
   "source": [
    "# Most occuring route and agency per client ID"
   ]
  },
  {
   "cell_type": "code",
   "execution_count": 33,
   "metadata": {
    "collapsed": false
   },
   "outputs": [],
   "source": [
    "route_per_client = train[['Ruta_SAK', 'Cliente_ID']].groupby('Cliente_ID').agg(lambda x:x.value_counts().index[0])\n",
    "agency_per_client = train[['Cliente_ID', 'Agencia_ID']].groupby('Cliente_ID').agg(lambda x:x.value_counts().index[0])\n",
    "agency_and_route_per_client = pd.merge(route_per_client, agency_per_client, left_index = True, right_index = True)\n",
    "agency_and_route_per_client = agency_and_route_per_client.rename(columns = {'Ruta_SAK':'Most_route'})\n",
    "agency_and_route_per_client = agency_and_route_per_client.rename(columns = {'Agencia_ID':'Most_agency'})\n",
    "agency_and_route_per_client.to_csv('Agency_and_ruta_per_client.csv')"
   ]
  },
  {
   "cell_type": "code",
   "execution_count": 46,
   "metadata": {
    "collapsed": false
   },
   "outputs": [],
   "source": [
    "train_ac = pd.merge(train, agency_and_route_per_client, how = 'left', left_on='Cliente_ID', right_index=True)"
   ]
  },
  {
   "cell_type": "code",
   "execution_count": 47,
   "metadata": {
    "collapsed": false
   },
   "outputs": [
    {
     "data": {
      "text/html": [
       "<div>\n",
       "<table border=\"1\" class=\"dataframe\">\n",
       "  <thead>\n",
       "    <tr style=\"text-align: right;\">\n",
       "      <th></th>\n",
       "      <th>Semana</th>\n",
       "      <th>Agencia_ID</th>\n",
       "      <th>Canal_ID</th>\n",
       "      <th>Ruta_SAK</th>\n",
       "      <th>Cliente_ID</th>\n",
       "      <th>Producto_ID</th>\n",
       "      <th>Venta_uni_hoy</th>\n",
       "      <th>Venta_hoy</th>\n",
       "      <th>Dev_uni_proxima</th>\n",
       "      <th>Dev_proxima</th>\n",
       "      <th>Demanda_uni_equil</th>\n",
       "      <th>Most_route</th>\n",
       "      <th>Most_agency</th>\n",
       "    </tr>\n",
       "  </thead>\n",
       "  <tbody>\n",
       "    <tr>\n",
       "      <th>0</th>\n",
       "      <td>3</td>\n",
       "      <td>1110</td>\n",
       "      <td>7</td>\n",
       "      <td>3301</td>\n",
       "      <td>15766</td>\n",
       "      <td>1212</td>\n",
       "      <td>3</td>\n",
       "      <td>25.14</td>\n",
       "      <td>0</td>\n",
       "      <td>0.0</td>\n",
       "      <td>3</td>\n",
       "      <td>3301</td>\n",
       "      <td>1110</td>\n",
       "    </tr>\n",
       "    <tr>\n",
       "      <th>1</th>\n",
       "      <td>3</td>\n",
       "      <td>1110</td>\n",
       "      <td>7</td>\n",
       "      <td>3301</td>\n",
       "      <td>15766</td>\n",
       "      <td>1216</td>\n",
       "      <td>4</td>\n",
       "      <td>33.52</td>\n",
       "      <td>0</td>\n",
       "      <td>0.0</td>\n",
       "      <td>4</td>\n",
       "      <td>3301</td>\n",
       "      <td>1110</td>\n",
       "    </tr>\n",
       "    <tr>\n",
       "      <th>2</th>\n",
       "      <td>3</td>\n",
       "      <td>1110</td>\n",
       "      <td>7</td>\n",
       "      <td>3301</td>\n",
       "      <td>15766</td>\n",
       "      <td>1238</td>\n",
       "      <td>4</td>\n",
       "      <td>39.32</td>\n",
       "      <td>0</td>\n",
       "      <td>0.0</td>\n",
       "      <td>4</td>\n",
       "      <td>3301</td>\n",
       "      <td>1110</td>\n",
       "    </tr>\n",
       "    <tr>\n",
       "      <th>3</th>\n",
       "      <td>3</td>\n",
       "      <td>1110</td>\n",
       "      <td>7</td>\n",
       "      <td>3301</td>\n",
       "      <td>15766</td>\n",
       "      <td>1240</td>\n",
       "      <td>4</td>\n",
       "      <td>33.52</td>\n",
       "      <td>0</td>\n",
       "      <td>0.0</td>\n",
       "      <td>4</td>\n",
       "      <td>3301</td>\n",
       "      <td>1110</td>\n",
       "    </tr>\n",
       "    <tr>\n",
       "      <th>4</th>\n",
       "      <td>3</td>\n",
       "      <td>1110</td>\n",
       "      <td>7</td>\n",
       "      <td>3301</td>\n",
       "      <td>15766</td>\n",
       "      <td>1242</td>\n",
       "      <td>3</td>\n",
       "      <td>22.92</td>\n",
       "      <td>0</td>\n",
       "      <td>0.0</td>\n",
       "      <td>3</td>\n",
       "      <td>3301</td>\n",
       "      <td>1110</td>\n",
       "    </tr>\n",
       "  </tbody>\n",
       "</table>\n",
       "</div>"
      ],
      "text/plain": [
       "   Semana  Agencia_ID  Canal_ID  Ruta_SAK  Cliente_ID  Producto_ID  Venta_uni_hoy  Venta_hoy  Dev_uni_proxima  Dev_proxima  Demanda_uni_equil  Most_route  Most_agency\n",
       "0       3        1110         7      3301       15766         1212              3      25.14                0          0.0                  3        3301         1110\n",
       "1       3        1110         7      3301       15766         1216              4      33.52                0          0.0                  4        3301         1110\n",
       "2       3        1110         7      3301       15766         1238              4      39.32                0          0.0                  4        3301         1110\n",
       "3       3        1110         7      3301       15766         1240              4      33.52                0          0.0                  4        3301         1110\n",
       "4       3        1110         7      3301       15766         1242              3      22.92                0          0.0                  3        3301         1110"
      ]
     },
     "execution_count": 47,
     "metadata": {},
     "output_type": "execute_result"
    }
   ],
   "source": [
    "train_ac.head()"
   ]
  },
  {
   "cell_type": "markdown",
   "metadata": {
    "collapsed": true
   },
   "source": [
    "# Town state"
   ]
  },
  {
   "cell_type": "code",
   "execution_count": 9,
   "metadata": {
    "collapsed": false
   },
   "outputs": [
    {
     "name": "stdout",
     "output_type": "stream",
     "text": [
      "# unique towns : 260\n",
      "# unique states : 33\n"
     ]
    },
    {
     "data": {
      "text/html": [
       "<div>\n",
       "<table border=\"1\" class=\"dataframe\">\n",
       "  <thead>\n",
       "    <tr style=\"text-align: right;\">\n",
       "      <th></th>\n",
       "      <th>Agencia_ID</th>\n",
       "      <th>Town</th>\n",
       "      <th>State</th>\n",
       "    </tr>\n",
       "  </thead>\n",
       "  <tbody>\n",
       "    <tr>\n",
       "      <th>0</th>\n",
       "      <td>1110</td>\n",
       "      <td>2008 AG. LAGO FILT</td>\n",
       "      <td>MÉXICO, D.F.</td>\n",
       "    </tr>\n",
       "    <tr>\n",
       "      <th>1</th>\n",
       "      <td>1111</td>\n",
       "      <td>2002 AG. AZCAPOTZALCO</td>\n",
       "      <td>MÉXICO, D.F.</td>\n",
       "    </tr>\n",
       "    <tr>\n",
       "      <th>2</th>\n",
       "      <td>1112</td>\n",
       "      <td>2004 AG. CUAUTITLAN</td>\n",
       "      <td>ESTADO DE MÉXICO</td>\n",
       "    </tr>\n",
       "    <tr>\n",
       "      <th>3</th>\n",
       "      <td>1113</td>\n",
       "      <td>2008 AG. LAGO FILT</td>\n",
       "      <td>MÉXICO, D.F.</td>\n",
       "    </tr>\n",
       "    <tr>\n",
       "      <th>4</th>\n",
       "      <td>1114</td>\n",
       "      <td>2029 AG.IZTAPALAPA 2</td>\n",
       "      <td>MÉXICO, D.F.</td>\n",
       "    </tr>\n",
       "  </tbody>\n",
       "</table>\n",
       "</div>"
      ],
      "text/plain": [
       "   Agencia_ID                   Town             State\n",
       "0        1110     2008 AG. LAGO FILT      MÉXICO, D.F.\n",
       "1        1111  2002 AG. AZCAPOTZALCO      MÉXICO, D.F.\n",
       "2        1112    2004 AG. CUAUTITLAN  ESTADO DE MÉXICO\n",
       "3        1113     2008 AG. LAGO FILT      MÉXICO, D.F.\n",
       "4        1114   2029 AG.IZTAPALAPA 2      MÉXICO, D.F."
      ]
     },
     "execution_count": 9,
     "metadata": {},
     "output_type": "execute_result"
    }
   ],
   "source": [
    "print('# unique towns : %i' %len(np.unique(town_state['Town'])))\n",
    "print('# unique states : %i' %len(np.unique(town_state['State'])))\n",
    "town_state.head()"
   ]
  },
  {
   "cell_type": "code",
   "execution_count": 11,
   "metadata": {
    "collapsed": false
   },
   "outputs": [
    {
     "data": {
      "text/html": [
       "<div>\n",
       "<table border=\"1\" class=\"dataframe\">\n",
       "  <thead>\n",
       "    <tr style=\"text-align: right;\">\n",
       "      <th></th>\n",
       "      <th>Semana</th>\n",
       "      <th>Agencia_ID</th>\n",
       "      <th>Canal_ID</th>\n",
       "      <th>Ruta_SAK</th>\n",
       "      <th>Cliente_ID</th>\n",
       "      <th>Producto_ID</th>\n",
       "      <th>Venta_uni_hoy</th>\n",
       "      <th>Venta_hoy</th>\n",
       "      <th>Dev_uni_proxima</th>\n",
       "      <th>Dev_proxima</th>\n",
       "      <th>Demanda_uni_equil</th>\n",
       "      <th>Town</th>\n",
       "      <th>State</th>\n",
       "    </tr>\n",
       "  </thead>\n",
       "  <tbody>\n",
       "    <tr>\n",
       "      <th>0</th>\n",
       "      <td>3</td>\n",
       "      <td>1110</td>\n",
       "      <td>7</td>\n",
       "      <td>3301</td>\n",
       "      <td>15766</td>\n",
       "      <td>1212</td>\n",
       "      <td>3</td>\n",
       "      <td>25.14</td>\n",
       "      <td>0</td>\n",
       "      <td>0.0</td>\n",
       "      <td>3</td>\n",
       "      <td>2008 AG. LAGO FILT</td>\n",
       "      <td>MÉXICO, D.F.</td>\n",
       "    </tr>\n",
       "    <tr>\n",
       "      <th>1</th>\n",
       "      <td>3</td>\n",
       "      <td>1110</td>\n",
       "      <td>7</td>\n",
       "      <td>3301</td>\n",
       "      <td>15766</td>\n",
       "      <td>1216</td>\n",
       "      <td>4</td>\n",
       "      <td>33.52</td>\n",
       "      <td>0</td>\n",
       "      <td>0.0</td>\n",
       "      <td>4</td>\n",
       "      <td>2008 AG. LAGO FILT</td>\n",
       "      <td>MÉXICO, D.F.</td>\n",
       "    </tr>\n",
       "    <tr>\n",
       "      <th>2</th>\n",
       "      <td>3</td>\n",
       "      <td>1110</td>\n",
       "      <td>7</td>\n",
       "      <td>3301</td>\n",
       "      <td>15766</td>\n",
       "      <td>1238</td>\n",
       "      <td>4</td>\n",
       "      <td>39.32</td>\n",
       "      <td>0</td>\n",
       "      <td>0.0</td>\n",
       "      <td>4</td>\n",
       "      <td>2008 AG. LAGO FILT</td>\n",
       "      <td>MÉXICO, D.F.</td>\n",
       "    </tr>\n",
       "    <tr>\n",
       "      <th>3</th>\n",
       "      <td>3</td>\n",
       "      <td>1110</td>\n",
       "      <td>7</td>\n",
       "      <td>3301</td>\n",
       "      <td>15766</td>\n",
       "      <td>1240</td>\n",
       "      <td>4</td>\n",
       "      <td>33.52</td>\n",
       "      <td>0</td>\n",
       "      <td>0.0</td>\n",
       "      <td>4</td>\n",
       "      <td>2008 AG. LAGO FILT</td>\n",
       "      <td>MÉXICO, D.F.</td>\n",
       "    </tr>\n",
       "    <tr>\n",
       "      <th>4</th>\n",
       "      <td>3</td>\n",
       "      <td>1110</td>\n",
       "      <td>7</td>\n",
       "      <td>3301</td>\n",
       "      <td>15766</td>\n",
       "      <td>1242</td>\n",
       "      <td>3</td>\n",
       "      <td>22.92</td>\n",
       "      <td>0</td>\n",
       "      <td>0.0</td>\n",
       "      <td>3</td>\n",
       "      <td>2008 AG. LAGO FILT</td>\n",
       "      <td>MÉXICO, D.F.</td>\n",
       "    </tr>\n",
       "  </tbody>\n",
       "</table>\n",
       "</div>"
      ],
      "text/plain": [
       "   Semana  Agencia_ID  Canal_ID  Ruta_SAK  Cliente_ID  Producto_ID  Venta_uni_hoy  Venta_hoy  Dev_uni_proxima  Dev_proxima  Demanda_uni_equil                Town         State\n",
       "0       3        1110         7      3301       15766         1212              3      25.14                0          0.0                  3  2008 AG. LAGO FILT  MÉXICO, D.F.\n",
       "1       3        1110         7      3301       15766         1216              4      33.52                0          0.0                  4  2008 AG. LAGO FILT  MÉXICO, D.F.\n",
       "2       3        1110         7      3301       15766         1238              4      39.32                0          0.0                  4  2008 AG. LAGO FILT  MÉXICO, D.F.\n",
       "3       3        1110         7      3301       15766         1240              4      33.52                0          0.0                  4  2008 AG. LAGO FILT  MÉXICO, D.F.\n",
       "4       3        1110         7      3301       15766         1242              3      22.92                0          0.0                  3  2008 AG. LAGO FILT  MÉXICO, D.F."
      ]
     },
     "execution_count": 11,
     "metadata": {},
     "output_type": "execute_result"
    }
   ],
   "source": [
    "train_state = pd.merge(train, town_state, left_on='Agencia_ID', right_on='Agencia_ID', how='left')\n",
    "train_state.head()"
   ]
  },
  {
   "cell_type": "code",
   "execution_count": 17,
   "metadata": {
    "collapsed": false
   },
   "outputs": [],
   "source": [
    "#clients_per_state = train_state[['State', 'Cliente_ID']].groupby('State')['Cliente_ID'].nunique()\n",
    "clients_per_town = train_state[['Town', 'Cliente_ID']].groupby('Town')['Cliente_ID'].nunique()"
   ]
  },
  {
   "cell_type": "code",
   "execution_count": 25,
   "metadata": {
    "collapsed": false
   },
   "outputs": [
    {
     "name": "stdout",
     "output_type": "stream",
     "text": [
      "Towns with less than 1000 clients 37\n"
     ]
    },
    {
     "data": {
      "text/plain": [
       "<matplotlib.axes._subplots.AxesSubplot at 0x1249565c0>"
      ]
     },
     "execution_count": 25,
     "metadata": {},
     "output_type": "execute_result"
    },
    {
     "data": {
      "image/png": "[encoded data removed]",
      "text/plain": [
       "<matplotlib.figure.Figure at 0x11a865710>"
      ]
     },
     "metadata": {},
     "output_type": "display_data"
    }
   ],
   "source": [
    "print('Towns with less than 1000 clients %i' %len(clients_per_states.loc[clients_per_states<1000]))\n",
    "clients_per_states.hist(bins=100)"
   ]
  },
  {
   "cell_type": "code",
   "execution_count": 18,
   "metadata": {
    "collapsed": false
   },
   "outputs": [
    {
     "ename": "NameError",
     "evalue": "name 'clients_per_state' is not defined",
     "output_type": "error",
     "traceback": [
      "\u001b[0;31m---------------------------------------------------------------------------\u001b[0m",
      "\u001b[0;31mNameError\u001b[0m                                 Traceback (most recent call last)",
      "\u001b[0;32m<ipython-input-18-1948769f4067>\u001b[0m in \u001b[0;36m<module>\u001b[0;34m()\u001b[0m\n\u001b[0;32m----> 1\u001b[0;31m \u001b[0mclients_per_state\u001b[0m\u001b[0;34m.\u001b[0m\u001b[0mhist\u001b[0m\u001b[0;34m(\u001b[0m\u001b[0;34m)\u001b[0m\u001b[0;34m\u001b[0m\u001b[0m\n\u001b[0m\u001b[1;32m      2\u001b[0m \u001b[0mclients_per_town\u001b[0m\u001b[0;34m.\u001b[0m\u001b[0mhist\u001b[0m\u001b[0;34m(\u001b[0m\u001b[0;34m)\u001b[0m\u001b[0;34m\u001b[0m\u001b[0m\n",
      "\u001b[0;31mNameError\u001b[0m: name 'clients_per_state' is not defined"
     ]
    }
   ],
   "source": [
    "clients_per_state.hist()\n",
    "print('Towns with less than 1000 clients %i' %len(clients_per_state.loc[clients_per_state<1000]))\n",
    "clients_per_town.hist()\n",
    "print('Towns with less than 1000 clients %i' %len(clients_per_town.loc[clients_per_town<1000]))"
   ]
  },
  {
   "cell_type": "code",
   "execution_count": null,
   "metadata": {
    "collapsed": false
   },
   "outputs": [],
   "source": [
    "train_pivot_geo = pd.merge(train_pivot, train[['Cliente_ID', 'Agencia_ID']], how='left', \n",
    "                           left_on='Cliente_ID', right_on='Agencia_ID')\n",
    "train_pivot_geo = pd.merge(train_pivot_geo, train[['Cliente_ID', 'Agencia_ID']], how='left', \n",
    "                           left_on='Cliente_ID', right_on='Agencia_ID')\n",
    "train_pivot_geo.head()"
   ]
  },
  {
   "cell_type": "markdown",
   "metadata": {},
   "source": [
    "# Usefull Kaggle forum posts"
   ]
  },
  {
   "cell_type": "markdown",
   "metadata": {},
   "source": [
    "week 1, I'm delivering 100 bread X to store A. Record shows: 100 sold. week 2, I'm delivering another 150 bread X to store A, and I'm picking up 25 bread X from the ones that are unsold and expired. Record shows: 150 sold, 25 returned.<br><br>\n",
    "So overall for week 1, net demand is 100-25=75.\n",
    "<br><br>\n",
    "Note: \"sold\" means \"sold to the vendor\", not \"sold to customer\""
   ]
  },
  {
   "cell_type": "markdown",
   "metadata": {},
   "source": [
    "I don't know if this is correct. Take a look at :\n",
    "\n",
    "It seems that Dev proxima is the returns next week, and the adjusted demand is than just the delivered goods minus the returns next week. All this information is the observation of this week. "
   ]
  },
  {
   "cell_type": "code",
   "execution_count": null,
   "metadata": {
    "collapsed": true
   },
   "outputs": [],
   "source": [
    "temp_client = train.loc[train['Cliente_ID']==333576,:]\n",
    "temp_client_product = temp_client.loc[temp_client['Producto_ID']==1238,:]\n",
    "temp_client_product"
   ]
  },
  {
   "cell_type": "markdown",
   "metadata": {},
   "source": [
    "#### How often are there returns?\n",
    "\n",
    "In three percent of the observations"
   ]
  },
  {
   "cell_type": "code",
   "execution_count": null,
   "metadata": {
    "collapsed": true
   },
   "outputs": [],
   "source": [
    "temp = train.loc[train['Dev_uni_proxima'] > 0,:]\n",
    "len(temp)/len(train)"
   ]
  },
  {
   "cell_type": "markdown",
   "metadata": {},
   "source": [
    "#### Important, what with missing weeks from a store\n",
    "\n",
    "Example: store 15766 and product 1216\n",
    "\n",
    "Your assumption is correct that Venta_uni_hoy and Dev_uni_proxima are both 0. The reason behind it is the demand isn't really tested because the supply=0 (Venta_uni_hoy=0), so there can be no returns. Therefore, the experiment there is missing. In that case, the demand is not 0, it's missing. In other cases where Venta_uni_hoy = Dev_uni_proxima != 0, the demand is 0.\n",
    "\n",
    "In my own words, if the supply was zero, nothing is delivered to the store, so nothing can also be returned from the store. This means the adjusted demand is not really measured, and therefore missing. If 3 products were delivered on the other hand, and 3 products returned, it means the adjusted demand was zero.\n",
    "\n",
    "Sometimes it happens that more products are returned than delivered, in that case the adjusted demand is not negative, but zero."
   ]
  },
  {
   "cell_type": "code",
   "execution_count": 18,
   "metadata": {
    "collapsed": false
   },
   "outputs": [
    {
     "data": {
      "text/html": [
       "<div>\n",
       "<table border=\"1\" class=\"dataframe\">\n",
       "  <thead>\n",
       "    <tr style=\"text-align: right;\">\n",
       "      <th></th>\n",
       "      <th>Venta_uni_hoy</th>\n",
       "    </tr>\n",
       "    <tr>\n",
       "      <th>Semana</th>\n",
       "      <th></th>\n",
       "    </tr>\n",
       "  </thead>\n",
       "  <tbody>\n",
       "    <tr>\n",
       "      <th>3</th>\n",
       "      <td>4</td>\n",
       "    </tr>\n",
       "    <tr>\n",
       "      <th>4</th>\n",
       "      <td>2</td>\n",
       "    </tr>\n",
       "    <tr>\n",
       "      <th>5</th>\n",
       "      <td>3</td>\n",
       "    </tr>\n",
       "    <tr>\n",
       "      <th>6</th>\n",
       "      <td>1</td>\n",
       "    </tr>\n",
       "    <tr>\n",
       "      <th>7</th>\n",
       "      <td>2</td>\n",
       "    </tr>\n",
       "    <tr>\n",
       "      <th>8</th>\n",
       "      <td>5</td>\n",
       "    </tr>\n",
       "  </tbody>\n",
       "</table>\n",
       "</div>"
      ],
      "text/plain": [
       "        Venta_uni_hoy\n",
       "Semana               \n",
       "3                   4\n",
       "4                   2\n",
       "5                   3\n",
       "6                   1\n",
       "7                   2\n",
       "8                   5"
      ]
     },
     "execution_count": 18,
     "metadata": {},
     "output_type": "execute_result"
    }
   ],
   "source": [
    "client_15766 = train.loc[(train['Cliente_ID']==15766\u001c",
    ") & (train['Producto_ID']==1216),:]\n",
    "client_15766[['Semana', 'Venta_uni_hoy']].groupby('Semana').agg('sum')"
   ]
  },
  {
   "cell_type": "markdown",
   "metadata": {},
   "source": [
    "This is a bit confusing, as other products were delivered to the this particular client at week 9"
   ]
  },
  {
   "cell_type": "code",
   "execution_count": 17,
   "metadata": {
    "collapsed": false
   },
   "outputs": [
    {
     "data": {
      "text/html": [
       "<div>\n",
       "<table border=\"1\" class=\"dataframe\">\n",
       "  <thead>\n",
       "    <tr style=\"text-align: right;\">\n",
       "      <th></th>\n",
       "      <th>Venta_uni_hoy</th>\n",
       "    </tr>\n",
       "    <tr>\n",
       "      <th>Semana</th>\n",
       "      <th></th>\n",
       "    </tr>\n",
       "  </thead>\n",
       "  <tbody>\n",
       "    <tr>\n",
       "      <th>3</th>\n",
       "      <td>131</td>\n",
       "    </tr>\n",
       "    <tr>\n",
       "      <th>4</th>\n",
       "      <td>130</td>\n",
       "    </tr>\n",
       "    <tr>\n",
       "      <th>5</th>\n",
       "      <td>134</td>\n",
       "    </tr>\n",
       "    <tr>\n",
       "      <th>6</th>\n",
       "      <td>91</td>\n",
       "    </tr>\n",
       "    <tr>\n",
       "      <th>7</th>\n",
       "      <td>150</td>\n",
       "    </tr>\n",
       "    <tr>\n",
       "      <th>8</th>\n",
       "      <td>121</td>\n",
       "    </tr>\n",
       "    <tr>\n",
       "      <th>9</th>\n",
       "      <td>129</td>\n",
       "    </tr>\n",
       "  </tbody>\n",
       "</table>\n",
       "</div>"
      ],
      "text/plain": [
       "        Venta_uni_hoy\n",
       "Semana               \n",
       "3                 131\n",
       "4                 130\n",
       "5                 134\n",
       "6                  91\n",
       "7                 150\n",
       "8                 121\n",
       "9                 129"
      ]
     },
     "execution_count": 17,
     "metadata": {},
     "output_type": "execute_result"
    }
   ],
   "source": [
    "client_15766 = train.loc[train['Cliente_ID']==15766\u001c",
    ",:]\n",
    "client_15766[['Semana', 'Venta_uni_hoy']].groupby('Semana').agg('sum')"
   ]
  },
  {
   "cell_type": "markdown",
   "metadata": {},
   "source": [
    "### Split public and private leaderbord"
   ]
  },
  {
   "cell_type": "markdown",
   "metadata": {},
   "source": [
    "Hi @Wendy,\n",
    "\n",
    "Could you tell me how the test data subject to the Public LB and Private LB are split? are they split randomly or are they split based on the two different weeks (week 10 and week 11)?\n",
    "\n",
    "Jianbo\n",
    "\n",
    "@bobye, it's split by week."
   ]
  }
 ],
 "metadata": {
  "kernelspec": {
   "display_name": "Python 3",
   "language": "python",
   "name": "python3"
  },
  "language_info": {
   "codemirror_mode": {
    "name": "ipython",
    "version": 3
   },
   "file_extension": ".py",
   "mimetype": "text/x-python",
   "name": "python",
   "nbconvert_exporter": "python",
   "pygments_lexer": "ipython3",
   "version": "3.5.1"
  },
  "widgets": {
   "state": {},
   "version": "1.1.2"
  }
 },
 "nbformat": 4,
 "nbformat_minor": 0
}

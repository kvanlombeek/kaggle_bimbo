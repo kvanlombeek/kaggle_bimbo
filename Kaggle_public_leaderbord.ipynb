{
 "cells": [
  {
   "cell_type": "code",
   "execution_count": 2,
   "metadata": {
    "collapsed": false
   },
   "outputs": [
    {
     "name": "stderr",
     "output_type": "stream",
     "text": [
      "/opt/conda/lib/python3.5/site-packages/matplotlib/font_manager.py:273: UserWarning: Matplotlib is building the font cache using fc-list. This may take a moment.\n",
      "  warnings.warn('Matplotlib is building the font cache using fc-list. This may take a moment.')\n",
      "/opt/conda/lib/python3.5/site-packages/matplotlib/font_manager.py:273: UserWarning: Matplotlib is building the font cache using fc-list. This may take a moment.\n",
      "  warnings.warn('Matplotlib is building the font cache using fc-list. This may take a moment.')\n"
     ]
    },
    {
     "ename": "ImportError",
     "evalue": "No module named 'bs4'",
     "output_type": "error",
     "traceback": [
      "\u001b[1;31m\u001b[0m",
      "\u001b[1;31mImportError\u001b[0mTraceback (most recent call last)",
      "\u001b[1;32m<ipython-input-2-e8c6a4d9b13a>\u001b[0m in \u001b[0;36m<module>\u001b[1;34m()\u001b[0m\n\u001b[0;32m      6\u001b[0m \u001b[1;32mimport\u001b[0m \u001b[0mmatplotlib\u001b[0m\u001b[1;33m.\u001b[0m\u001b[0mpyplot\u001b[0m \u001b[1;32mas\u001b[0m \u001b[0mplt\u001b[0m\u001b[1;33m\u001b[0m\u001b[0m\n\u001b[0;32m      7\u001b[0m \u001b[1;32mimport\u001b[0m \u001b[0mrequests\u001b[0m\u001b[1;33m\u001b[0m\u001b[0m\n\u001b[1;32m----> 8\u001b[1;33m \u001b[1;32mfrom\u001b[0m \u001b[0mbs4\u001b[0m \u001b[1;32mimport\u001b[0m \u001b[0mBeautifulSoup\u001b[0m\u001b[1;33m\u001b[0m\u001b[0m\n\u001b[0m\u001b[0;32m      9\u001b[0m \u001b[1;32mimport\u001b[0m \u001b[0msqlite3\u001b[0m\u001b[1;33m\u001b[0m\u001b[0m\n\u001b[0;32m     10\u001b[0m \u001b[1;32mimport\u001b[0m \u001b[0mhtml5lib\u001b[0m\u001b[1;33m\u001b[0m\u001b[0m\n",
      "\u001b[1;31mImportError\u001b[0m: No module named 'bs4'"
     ]
    }
   ],
   "source": [
    "import re\n",
    "import pandas as pd\n",
    "import requests\n",
    "import numpy as np\n",
    "%matplotlib inline\n",
    "import matplotlib.pyplot as plt\n",
    "import requests \n",
    "from bs4 import BeautifulSoup\n",
    "import sqlite3\n",
    "import html5lib\n",
    "import datetime\n",
    "\n",
    "import seaborn as sb\n",
    "from sklearn.cross_validation import train_test_split\n",
    "from sklearn.tree import DecisionTreeClassifier\n",
    "from sklearn.ensemble import RandomForestClassifier\n",
    "\n",
    "\n",
    "pd.set_option('display.max_columns', 500)\n",
    "pd.set_option('display.width', 5000) \n",
    "pd.set_option('max_colwidth',2000)\n",
    "from IPython.core.display import HTML\n",
    "HTML(\"<style>.container { width:80% !important; }</style>\")"
   ]
  },
  {
   "cell_type": "markdown",
   "metadata": {},
   "source": [
    "## Get the HTML and convert into BeautifulSoup"
   ]
  },
  {
   "cell_type": "code",
   "execution_count": 2,
   "metadata": {
    "collapsed": false
   },
   "outputs": [],
   "source": [
    "url = 'https://www.kaggle.com/c/grupo-bimbo-inventory-demand/leaderboard'\n",
    "request_raw = requests.request(method = 'GET', url = url)\n",
    "request_text = request_raw.text\n",
    "request_soup = BeautifulSoup(request_text, \"lxml\")"
   ]
  },
  {
   "cell_type": "markdown",
   "metadata": {},
   "source": [
    "## Find the leaderboard table in the html"
   ]
  },
  {
   "cell_type": "code",
   "execution_count": 3,
   "metadata": {
    "collapsed": false
   },
   "outputs": [],
   "source": [
    "leaderboard_table_html = request_soup.find('table', attrs={'id':'leaderboard-table'})"
   ]
  },
  {
   "cell_type": "markdown",
   "metadata": {},
   "source": [
    "## Mine the BeautifulSoup and create a DataFrame with the entries"
   ]
  },
  {
   "cell_type": "code",
   "execution_count": 4,
   "metadata": {
    "collapsed": false
   },
   "outputs": [
    {
     "data": {
      "text/html": [
       "<div>\n",
       "<table border=\"1\" class=\"dataframe\">\n",
       "  <thead>\n",
       "    <tr style=\"text-align: right;\">\n",
       "      <th></th>\n",
       "      <th>score_title</th>\n",
       "      <th>score</th>\n",
       "      <th>number_of_submissions</th>\n",
       "      <th>leader-number</th>\n",
       "      <th>team_link</th>\n",
       "      <th>last_submission</th>\n",
       "      <th>best_submission</th>\n",
       "      <th>team_name</th>\n",
       "      <th>delta</th>\n",
       "      <th>id</th>\n",
       "    </tr>\n",
       "  </thead>\n",
       "  <tbody>\n",
       "    <tr>\n",
       "      <th>860</th>\n",
       "      <td>5d improvement: none</td>\n",
       "      <td>1.38003</td>\n",
       "      <td>2</td>\n",
       "      <td>859</td>\n",
       "      <td>/onkwocha</td>\n",
       "      <td>28 Jun 2016 07:03:07</td>\n",
       "      <td>28 Jun 2016 07:03:07</td>\n",
       "      <td>NU_pdt ON</td>\n",
       "      <td>new</td>\n",
       "      <td>team-344380</td>\n",
       "    </tr>\n",
       "    <tr>\n",
       "      <th>861</th>\n",
       "      <td>5d improvement: none</td>\n",
       "      <td>1.49844</td>\n",
       "      <td>1</td>\n",
       "      <td>860</td>\n",
       "      <td>/abhisheksrathore</td>\n",
       "      <td>13 Jun 2016 11:00:55</td>\n",
       "      <td>13 Jun 2016 11:00:55</td>\n",
       "      <td>Abhishek</td>\n",
       "      <td>↓123</td>\n",
       "      <td>team-339401</td>\n",
       "    </tr>\n",
       "    <tr>\n",
       "      <th>862</th>\n",
       "      <td>5d improvement: none</td>\n",
       "      <td>3.50767</td>\n",
       "      <td>2</td>\n",
       "      <td>861</td>\n",
       "      <td>/ruimachado</td>\n",
       "      <td>28 Jun 2016 14:46:48</td>\n",
       "      <td>28 Jun 2016 14:38:40</td>\n",
       "      <td>RuiMachado</td>\n",
       "      <td>new</td>\n",
       "      <td>team-345022</td>\n",
       "    </tr>\n",
       "    <tr>\n",
       "      <th>863</th>\n",
       "      <td>5d improvement: none</td>\n",
       "      <td>6.07175</td>\n",
       "      <td>1</td>\n",
       "      <td>862</td>\n",
       "      <td>/sergioperez</td>\n",
       "      <td>21 Jun 2016 18:49:20</td>\n",
       "      <td>21 Jun 2016 18:49:20</td>\n",
       "      <td>SergioPerez</td>\n",
       "      <td>↓123</td>\n",
       "      <td>team-342861</td>\n",
       "    </tr>\n",
       "    <tr>\n",
       "      <th>864</th>\n",
       "      <td>5d improvement: none</td>\n",
       "      <td>7.77332</td>\n",
       "      <td>1</td>\n",
       "      <td>863</td>\n",
       "      <td>/lcsbny</td>\n",
       "      <td>19 Jun 2016 15:40:10</td>\n",
       "      <td>19 Jun 2016 15:40:10</td>\n",
       "      <td>lcsbny</td>\n",
       "      <td>↓123</td>\n",
       "      <td>team-337061</td>\n",
       "    </tr>\n",
       "  </tbody>\n",
       "</table>\n",
       "</div>"
      ],
      "text/plain": [
       "              score_title    score  number_of_submissions  leader-number          team_link       last_submission       best_submission    team_name delta           id\n",
       "860  5d improvement: none  1.38003                      2            859          /onkwocha  28 Jun 2016 07:03:07  28 Jun 2016 07:03:07    NU_pdt ON   new  team-344380\n",
       "861  5d improvement: none  1.49844                      1            860  /abhisheksrathore  13 Jun 2016 11:00:55  13 Jun 2016 11:00:55     Abhishek  ↓123  team-339401\n",
       "862  5d improvement: none  3.50767                      2            861        /ruimachado  28 Jun 2016 14:46:48  28 Jun 2016 14:38:40   RuiMachado   new  team-345022\n",
       "863  5d improvement: none  6.07175                      1            862       /sergioperez  21 Jun 2016 18:49:20  21 Jun 2016 18:49:20  SergioPerez  ↓123  team-342861\n",
       "864  5d improvement: none  7.77332                      1            863            /lcsbny  19 Jun 2016 15:40:10  19 Jun 2016 15:40:10       lcsbny  ↓123  team-337061"
      ]
     },
     "execution_count": 4,
     "metadata": {},
     "output_type": "execute_result"
    }
   ],
   "source": [
    "entries = {}\n",
    "for index, row in enumerate(leaderboard_table_html.findAll('tr')): \n",
    "    if(index == 0): continue \n",
    "    if('class' in row.attrs): continue\n",
    "    row_dict = {}\n",
    "    row_dict['id'] = row.attrs['id']\n",
    "    row_dict['leader-number'] = int(row.find('td',attrs = {'class':'leader-number'}).string)\n",
    "    row_dict['delta'] = row.find('td', attrs = {'class':'delta'}).find('span').string\n",
    "    \n",
    "    a_single_player = row.find('a', attrs = {'class':'team-link single-player'})\n",
    "    if(a_single_player is not None):\n",
    "        row_dict['team_link'] = a_single_player.attrs['href']\n",
    "        row_dict['team_name'] = a_single_player.string.strip()\n",
    "    \n",
    "    a_team_player = row.find('a', attrs = {'class':'team-link team-player'})\n",
    "    if(a_team_player is not None):\n",
    "        row_dict['team_link'] = a_team_player.attrs['href']\n",
    "        row_dict['team_name'] = a_team_player.string.strip() \n",
    "    \n",
    "    row_dict['score_title'] = row.find('abbr', attrs = {'class':'score'}).attrs['title']\n",
    "    row_dict['score'] = float(row.find('abbr', attrs = {'class':'score'}).string)\n",
    "    row_dict['number_of_submissions'] = int(row.findAll('td')[4].string)\n",
    "    # Best and last submission some regex cleanup to do\n",
    "    temp = row.find('abbr', attrs = {'title':re.compile('Best Submission')}).attrs['title']\n",
    "    row_dict['last_submission'] = re.split(pattern = '\\n', string = temp)[0]\n",
    "    row_dict['last_submission'] = re.sub(pattern = '.*Submission: ', repl = '', string =  row_dict['last_submission'])\n",
    "    row_dict['last_submission'] = re.sub(pattern = '\\(.*\\)', repl = '', string =  row_dict['last_submission']).strip()\n",
    "    row_dict['last_submission'] = re.sub(pattern = '[A-Za-z]*, ', repl = '', string =  row_dict['last_submission']).strip()        \n",
    "    row_dict['best_submission'] = re.split(pattern = '\\n', string = temp)[1]\n",
    "    row_dict['best_submission'] = re.sub(pattern = '.*Submission: ', repl='', string = row_dict['best_submission'])\n",
    "    row_dict['best_submission'] = re.sub(pattern = '\\(.*\\)', repl = '', string =  row_dict['best_submission']).strip()\n",
    "    row_dict['best_submission'] = re.sub(pattern = '[A-Za-z]*, ', repl = '', string =  row_dict['best_submission']).strip()\n",
    "    entries[index] = row_dict\n",
    "entries = pd.DataFrame.from_dict(entries, orient = 'index')\n",
    "entries.tail()"
   ]
  },
  {
   "cell_type": "markdown",
   "metadata": {},
   "source": [
    "## Add the date_scraped and store into the Sqlite"
   ]
  },
  {
   "cell_type": "code",
   "execution_count": 5,
   "metadata": {
    "collapsed": false
   },
   "outputs": [],
   "source": [
    "entries['date_scraped'] = datetime.datetime.today()\n",
    "conn = sqlite3.connect('Kaggle_Bimbo_results.db')\n",
    "entries.to_sql(con = conn, name = 'Kaggle_Bimbo_Ranking', if_exists='append')"
   ]
  },
  {
   "cell_type": "markdown",
   "metadata": {},
   "source": [
    "# Plot today"
   ]
  },
  {
   "cell_type": "code",
   "execution_count": 6,
   "metadata": {
    "collapsed": false
   },
   "outputs": [
    {
     "data": {
      "text/plain": [
       "41    0.46817\n",
       "Name: score, dtype: float64"
      ]
     },
     "execution_count": 6,
     "metadata": {},
     "output_type": "execute_result"
    }
   ],
   "source": [
    "entries.loc[entries['team_name'] == 'Kasper Van Lombeek','score']"
   ]
  },
  {
   "cell_type": "code",
   "execution_count": 7,
   "metadata": {
    "collapsed": false
   },
   "outputs": [
    {
     "data": {
      "text/plain": [
       "<matplotlib.text.Text at 0x11e772f60>"
      ]
     },
     "execution_count": 7,
     "metadata": {},
     "output_type": "execute_result"
    },
    {
     "data": {
      "image/png": "[encoded data removed]",
      "text/plain": [
       "<matplotlib.figure.Figure at 0x11e710fd0>"
      ]
     },
     "metadata": {},
     "output_type": "display_data"
    }
   ],
   "source": [
    "plt.plot(entries['leader-number'].values / len(entries)*100, \n",
    "         entries['score'].values)\n",
    "plt.ylim((0,1))\n",
    "plt.xlabel('Percent of entries, total entries: %i' %len(entries))\n",
    "plt.ylabel('Root Mean Squared Logarithmic Error')\n",
    "plt.axhline(entries.loc[entries['team_name'] == 'Kasper Van Lombeek','score'].values, color='green', ls='dashed')\n",
    "plt.axvline(entries.loc[entries['team_name'] == 'Kasper Van Lombeek','leader-number'].values / \\\n",
    "            len(entries)*100, color='green', ls='dashed')\n",
    "plt.title('Bimbo public leaderboard')"
   ]
  },
  {
   "cell_type": "code",
   "execution_count": null,
   "metadata": {
    "collapsed": true
   },
   "outputs": [],
   "source": []
  }
 ],
 "metadata": {
  "kernelspec": {
   "display_name": "Python 3",
   "language": "python",
   "name": "python3"
  },
  "language_info": {
   "codemirror_mode": {
    "name": "ipython",
    "version": 3
   },
   "file_extension": ".py",
   "mimetype": "text/x-python",
   "name": "python",
   "nbconvert_exporter": "python",
   "pygments_lexer": "ipython3",
   "version": "3.5.1"
  },
  "widgets": {
   "state": {},
   "version": "1.1.2"
  }
 },
 "nbformat": 4,
 "nbformat_minor": 0
}

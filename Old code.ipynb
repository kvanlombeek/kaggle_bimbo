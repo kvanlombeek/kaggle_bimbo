{
 "cells": [
  {
   "cell_type": "code",
   "execution_count": null,
   "metadata": {
    "collapsed": true
   },
   "outputs": [],
   "source": [
    "def most_common(lst):\n",
    "    lst = list(lst)\n",
    "    return max(set(lst), key=lst.count)\n",
    "most_common([4,5,6,5,7])"
   ]
  },
  {
   "cell_type": "code",
   "execution_count": null,
   "metadata": {
    "collapsed": true
   },
   "outputs": [],
   "source": [
    "grouped = train.groupby('Cliente_ID')['Canal_ID']\n",
    "canal_ID_per_client = grouped.aggregate(most_common)\n",
    "canal_ID_per_client = pd.DataFrame(canal_ID_per_client)\n",
    "#canal_ID_per_client.to_csv('data/canal_ID_per_client.csv', index = False)\n",
    "canal_ID_per_client_dummified = pd.get_dummies(canal_ID_per_client['Canal_ID'])\n",
    "canal_ID_per_client_dummified.columns = ['canal_ID_%i' %i for i in range(len(canal_ID_per_client_dummified.columns)) ]\n",
    "canal_ID_per_client_dummified.head()"
   ]
  },
  {
   "cell_type": "code",
   "execution_count": null,
   "metadata": {
    "collapsed": true
   },
   "outputs": [],
   "source": [
    "#grouped = train.groupby('Cliente_ID')['Demanda_uni_equil']\n",
    "#store_size = grouped.aggregate('sum')\n",
    "#store_size = pd.DataFrame(store_size)\n",
    "#store_size = store_size.rename(columns = {'Demanda_uni_equil': 'Store_size'})\n",
    "#store_size.head()"
   ]
  },
  {
   "cell_type": "code",
   "execution_count": null,
   "metadata": {
    "collapsed": true
   },
   "outputs": [],
   "source": [
    "#train_pivot = train.pivot_table(index=['Cliente_ID','Producto_ID'], columns='Semana', values='Demanda_uni_equil')\n",
    "#train_pivot.columns = ['sem%i'%i for i in train_pivot.columns]\n",
    "#train_pivot = train_pivot.reset_index()"
   ]
  },
  {
   "cell_type": "code",
   "execution_count": null,
   "metadata": {
    "collapsed": true
   },
   "outputs": [],
   "source": [
    "test_pivot = pd.merge(test, train_pivot, how = 'left', \n",
    "                      left_on = ['Cliente_ID', 'Producto_ID'],right_on = ['Cliente_ID', 'Producto_ID'] )"
   ]
  }
 ],
 "metadata": {
  "kernelspec": {
   "display_name": "Python 3",
   "language": "python",
   "name": "python3"
  },
  "language_info": {
   "codemirror_mode": {
    "name": "ipython",
    "version": 3
   },
   "file_extension": ".py",
   "mimetype": "text/x-python",
   "name": "python",
   "nbconvert_exporter": "python",
   "pygments_lexer": "ipython3",
   "version": "3.5.1"
  }
 },
 "nbformat": 4,
 "nbformat_minor": 0
}
